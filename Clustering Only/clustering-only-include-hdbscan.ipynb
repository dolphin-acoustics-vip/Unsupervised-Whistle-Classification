{
 "cells": [
  {
   "cell_type": "markdown",
   "id": "0aa060bc",
   "metadata": {},
   "source": [
    "# Testing only Unsupervised Methods #\n",
    "Author: Ayam Babu, with supervision from Tristan Kleyn and Professor Vincent Janik\n",
    "Experiment recommendation by: Joel Beckles\n",
    "\n",
    "Date: 20 February, 2024\n",
    "\n",
    "Purpose of Experiment: Joel Beckles, a teammate of the programmer, recommended the programmer to test whether dimensionality reduction algorithms (embedding higher dimensional data to lower dimensions) make a difference when paired with clustering algorithms. If solely using clustering algorithms have a similar performance, it may not be necessary to have a dimensionality reduction algorithm. Testing the usage of dimensionality reduction algorithms allows the programmer to justify their usefulness through empirical results.\n",
    "\n",
    "Purpose of Project: Student project as part of the Dolphin Acoustics Vertically Integrated Project (VIP) that classifies dolphin signature whistles. Signature whistles are used to uniquely identify individuals dolphins, and they can be useful for extrapolating the population of groups of dolphins. This project focuses on applying machine learning with Python, specifically unsupervised learning methods that do not require extensive datasets to train, to classifying dolphin whistles. The author uses the labelled Sarasota dataset from dolphins in Sarasota, Florida – where each signature whistle recorded is traceable to a known individual dolphin – to assess the effectiveness of the unsupervised learning methods.\n",
    "\n",
    "The programmer has given it their best to document their program, but if a future team member has any further questions, they shouldn't hesitate to contact Ayam Babu at ab550@st-andrews.ac.uk."
   ]
  },
  {
   "cell_type": "markdown",
   "id": "41c15d4a",
   "metadata": {},
   "source": [
    "## Table of Contents: ##\n",
    "Note: if you have read the 2023-24 Semester 1 notebook, you can skip section 1\n",
    "1. [Sarasota Dataset Exploration](#Sarasota-Dataset-Exploration)\n",
    "2. [Deciding which models to use](#Deciding-which-models-to-use)\n",
    "3. [Experiments](#Experiments)\n",
    "4. [Analysis & Results](#Analysis-&-Results), final results table: [Top 5 method performances](#Top-5-method-performances)\n",
    "5. [Conclusion & Future Work](#Conclusion-&-Future-Work)"
   ]
  },
  {
   "cell_type": "markdown",
   "id": "873e9d59",
   "metadata": {},
   "source": [
    "## Sarasota Dataset Exploration ##\n",
    "\n",
    "The code below is for finding, then using the dataset. The programmer explored the whistle data closer, so that he could understand the dataset he was working with.\n",
    "\n",
    "Each cell with \"In [#]:\" written after it is a snippet of code that is executed individually. Some of these cells have \"#\" written on the first line: this is an indication that the words following the \"#\" on the line are comments by the programmer."
   ]
  },
  {
   "cell_type": "code",
   "execution_count": 1,
   "id": "528bf745",
   "metadata": {},
   "outputs": [
    {
     "name": "stdout",
     "output_type": "stream",
     "text": [
      "1800 whistles in the dataset\n"
     ]
    }
   ],
   "source": [
    "from os import listdir\n",
    "\n",
    "sarasota_dir_path = \"../Full dataset\"\n",
    "sarasota_whistle_paths = listdir(sarasota_dir_path)\n",
    "print(str(len(sarasota_whistle_paths)) + \" whistles in the dataset\")"
   ]
  },
  {
   "cell_type": "code",
   "execution_count": 2,
   "id": "03de85ff",
   "metadata": {},
   "outputs": [],
   "source": [
    "# Gather individual names and signature whistles from the Sarasota dataset and store them in separate lists\n",
    "import pandas as pd\n",
    "\n",
    "individual_names = []\n",
    "signature_whistles = []\n",
    "\n",
    "for sarasota_whistle_path in sarasota_whistle_paths:\n",
    "    individual_name = sarasota_whistle_path.split(\"-\")[0]\n",
    "    individual_names.append(individual_name)\n",
    "    #print(sarasota_dir_path + \"/\" + sarasota_whistle_path)\n",
    "    signature_whistle = pd.read_csv(sarasota_dir_path + \"/\" + sarasota_whistle_path)\n",
    "    signature_whistles.append(signature_whistle)"
   ]
  },
  {
   "cell_type": "code",
   "execution_count": 3,
   "id": "b93137fa",
   "metadata": {},
   "outputs": [],
   "source": [
    "# Collect the first whistle as a sample\n",
    "sarasota_whistle_path_sample = sarasota_whistle_paths[0]\n",
    "individual_name = sarasota_whistle_path_sample.split(\"-\")[0]\n",
    "sample_whistle = pd.read_csv(sarasota_dir_path + \"/\" + sarasota_whistle_path_sample)"
   ]
  },
  {
   "cell_type": "code",
   "execution_count": 4,
   "id": "f6c00348",
   "metadata": {},
   "outputs": [
    {
     "data": {
      "text/html": [
       "<div>\n",
       "<style scoped>\n",
       "    .dataframe tbody tr th:only-of-type {\n",
       "        vertical-align: middle;\n",
       "    }\n",
       "\n",
       "    .dataframe tbody tr th {\n",
       "        vertical-align: top;\n",
       "    }\n",
       "\n",
       "    .dataframe thead th {\n",
       "        text-align: right;\n",
       "    }\n",
       "</style>\n",
       "<table border=\"1\" class=\"dataframe\">\n",
       "  <thead>\n",
       "    <tr style=\"text-align: right;\">\n",
       "      <th></th>\n",
       "      <th>Time [ms]</th>\n",
       "      <th>Peak Frequency [Hz]</th>\n",
       "      <th>Duty Cycle</th>\n",
       "      <th>Energy</th>\n",
       "      <th>WindowRMS</th>\n",
       "    </tr>\n",
       "  </thead>\n",
       "  <tbody>\n",
       "    <tr>\n",
       "      <th>0</th>\n",
       "      <td>1685963745222</td>\n",
       "      <td>8109.3750</td>\n",
       "      <td>1.352765</td>\n",
       "      <td>0.000048</td>\n",
       "      <td>0.022901</td>\n",
       "    </tr>\n",
       "    <tr>\n",
       "      <th>1</th>\n",
       "      <td>1685963745227</td>\n",
       "      <td>7945.3125</td>\n",
       "      <td>1.355840</td>\n",
       "      <td>0.000083</td>\n",
       "      <td>0.025138</td>\n",
       "    </tr>\n",
       "    <tr>\n",
       "      <th>2</th>\n",
       "      <td>1685963745233</td>\n",
       "      <td>7757.8125</td>\n",
       "      <td>1.424948</td>\n",
       "      <td>0.000066</td>\n",
       "      <td>0.027375</td>\n",
       "    </tr>\n",
       "    <tr>\n",
       "      <th>3</th>\n",
       "      <td>1685963745237</td>\n",
       "      <td>7593.7500</td>\n",
       "      <td>1.410701</td>\n",
       "      <td>0.000070</td>\n",
       "      <td>0.027522</td>\n",
       "    </tr>\n",
       "    <tr>\n",
       "      <th>4</th>\n",
       "      <td>1685963745242</td>\n",
       "      <td>7406.2500</td>\n",
       "      <td>1.420021</td>\n",
       "      <td>0.000077</td>\n",
       "      <td>0.027827</td>\n",
       "    </tr>\n",
       "  </tbody>\n",
       "</table>\n",
       "</div>"
      ],
      "text/plain": [
       "       Time [ms]   Peak Frequency [Hz]   Duty Cycle    Energy   WindowRMS\n",
       "0  1685963745222             8109.3750     1.352765  0.000048    0.022901\n",
       "1  1685963745227             7945.3125     1.355840  0.000083    0.025138\n",
       "2  1685963745233             7757.8125     1.424948  0.000066    0.027375\n",
       "3  1685963745237             7593.7500     1.410701  0.000070    0.027522\n",
       "4  1685963745242             7406.2500     1.420021  0.000077    0.027827"
      ]
     },
     "execution_count": 4,
     "metadata": {},
     "output_type": "execute_result"
    }
   ],
   "source": [
    "# Explore a sample whistle from the dataset\n",
    "# Each row represents a hydrophone (microphone in water) reading at a given time in ms\n",
    "# All the readings come together to form the whistle\n",
    "# For readability, the first 5 readings are shown below\n",
    "\n",
    "sample_whistle.head()"
   ]
  },
  {
   "cell_type": "code",
   "execution_count": 5,
   "id": "fb3a952c",
   "metadata": {},
   "outputs": [
    {
     "data": {
      "image/png": "[encoded data removed]",
      "text/plain": [
       "<Figure size 640x480 with 1 Axes>"
      ]
     },
     "metadata": {},
     "output_type": "display_data"
    }
   ],
   "source": [
    "# Plot the first whistle / sample whistle\n",
    "\n",
    "import matplotlib.pyplot as plt\n",
    "fig, ax = plt.subplots()\n",
    "ax.plot(sample_whistle[\"Time [ms]\"] - sample_whistle[\"Time [ms]\"][0], \n",
    "        sample_whistle[\" Peak Frequency [Hz]\"], linewidth = 2.0)\n",
    "\n",
    "plt.xlabel(\"Time [ms]\")\n",
    "plt.ylabel(\"Peak Frequency [Hz]\")\n",
    "plt.title(\"Plot of Sample Whistle (Time [ms] vs. Frequency [Hz])\")\n",
    "\n",
    "plt.show()"
   ]
  },
  {
   "cell_type": "markdown",
   "id": "6e7c75f6",
   "metadata": {},
   "source": [
    "I was curious about the number of readings per whistle, so I decided to plot the distribution of it. This will help me check if all the whistles have the same number of readings or not, and if not, how many whistles are there for each readings range (e.g. there are almost 300 whistles with the number of readings being 0-50, shown below)."
   ]
  },
  {
   "cell_type": "code",
   "execution_count": 6,
   "id": "407dac71",
   "metadata": {},
   "outputs": [
    {
     "data": {
      "image/png": "[encoded data removed]",
      "text/plain": [
       "<Figure size 640x480 with 1 Axes>"
      ]
     },
     "metadata": {},
     "output_type": "display_data"
    }
   ],
   "source": [
    "import numpy as np\n",
    "import matplotlib.pyplot as plt\n",
    "\n",
    "signature_lengths = [len(signature_whistle) for signature_whistle in signature_whistles]\n",
    "plt.hist(signature_lengths, bins = 12)\n",
    "\n",
    "plt.xlabel(\"Number of Readings per Whistle\")\n",
    "plt.ylabel(\"Number of Whistles\")\n",
    "plt.title(\"Number of Readings for Whistles\")\n",
    "\n",
    "plt.show()"
   ]
  },
  {
   "cell_type": "markdown",
   "id": "d7e62fba",
   "metadata": {},
   "source": [
    "## Deciding which models to use ##\n",
    "\n",
    "A clustering algorithm tries to cluster whistles that are similar together, based on how far the whistle's embeddings are from each other. For the purposes of our problem, all whistles enclosed in each cluster represent whistles attributed to the same individual dolphin.\n",
    "\n",
    "The programmer has provided a list below of all the clustering algorithms that he has tried out.\n",
    "\n",
    "Clustering:\n",
    "* Density-Based Spatial Clustering of Applications with Noise (DBSCAN)\n",
    "* Hierarchial DBSCAN (HDBSCAN)\n",
    "* Gaussian Mixture (GM)\n",
    "\n",
    "Initially, the programmer also experimented with Kernel Density Estimation (KDE) as a clustering algorithm, but due to time constraints, the programmer has decided to not evaluate it. Above is not an exhaustive list of clustering algorithms and more could certainly be added when found.\n",
    "\n",
    "The produced whistle clusters from each combination have been compared to the dataset's whistle clusters and evaluated through the **Normalized Mutual Information** score. The Normalized Mutual Information score (or NMI) measures the amount of information shared between two sets of clusters on a scale from 0.0 (indicating extreme dissimilarity) to 1.0 (indicating extreme similarity). The **Adjusted Rand Index** score (or ARI) is also tracked, but it is used as a secondary measurement and is not recorded because it makes data more difficult to organize. The Adjusted Rand Index measures the agreement between the items of two sets of clusters.\n"
   ]
  },
  {
   "cell_type": "markdown",
   "id": "1c89cc76",
   "metadata": {},
   "source": [
    "## Experiments ##\n",
    "Multiple experiments were conducted, with each clustering algorithm trialled. The clustering algorithms each have parameters (settings) picked randomly or intentionally, which adjust the behaviour. The Normalized Mutual Information score (amount of information shared between two clusters, on a scale of 0.0 to 1.0) for each algorithm combination are recorded in separate spreadsheets, with each spreadsheet containing the results for different algorithm settings. The NMI Score will be calculated through the Scikit-learn library, as it has plenty of built-in metrics.\n",
    "\n",
    "If the reader has reviewed the 2023-24 Semester 1 notebook, they can skip section 0.\n",
    "\n",
    "Experiments conducted:\n",
    "\n",
    "0. [Preprocessing](#Preprocessing)\n",
    "1. [DBSCAN](#DBSCAN)\n",
    "2. [GM](#GM)\n",
    "3. [HDBSCAN](#HDBSCAN)"
   ]
  },
  {
   "cell_type": "markdown",
   "id": "4e50f4b7",
   "metadata": {},
   "source": [
    "### Preprocessing ###\n",
    "\n",
    "Before the whistles can be passed into the models, they need to be processed.\n",
    "\n",
    "After exploring the dataset, the programmer decided to standardize the whistle lengths to 400 readings. This is simply because a lot of unsupervised machine learning methods that the programmer is planning on using requires fixed size inputs. The dolphin identifier is also matched to a number, as it simplifies some of the programming later on."
   ]
  },
  {
   "cell_type": "code",
   "execution_count": 7,
   "id": "950b8b1f",
   "metadata": {},
   "outputs": [
    {
     "name": "stdout",
     "output_type": "stream",
     "text": [
      "(1800, 400)\n",
      "(1800,)\n"
     ]
    }
   ],
   "source": [
    "# Standardize whistle length to size 400\n",
    "\n",
    "whistles = []\n",
    "\n",
    "for signature_whistle in signature_whistles:\n",
    "    size = len(signature_whistle)\n",
    "    newsize = 400\n",
    "\n",
    "    xloc = np.arange(size)\n",
    "    new_xloc = np.linspace(0, size, newsize)\n",
    "    new_sw = np.interp(new_xloc, xloc, signature_whistle[\" Peak Frequency [Hz]\"])\n",
    "    \n",
    "    whistles.append(new_sw)\n",
    "    \n",
    "print(np.shape(whistles))\n",
    "print(np.shape(individual_names))"
   ]
  },
  {
   "cell_type": "code",
   "execution_count": 8,
   "id": "e3784784",
   "metadata": {},
   "outputs": [
    {
     "data": {
      "text/plain": [
       "array([52, 21, 47, ..., 47, 28, 16])"
      ]
     },
     "execution_count": 8,
     "metadata": {},
     "output_type": "execute_result"
    }
   ],
   "source": [
    "# Dolphin identifier (dataset whistle cluster label) matched to a number\n",
    "\n",
    "from sklearn.preprocessing import LabelEncoder\n",
    "le = LabelEncoder()\n",
    "\n",
    "X = whistles\n",
    "y = le.fit_transform(individual_names)\n",
    "\n",
    "y"
   ]
  },
  {
   "cell_type": "markdown",
   "id": "c743c1cf",
   "metadata": {},
   "source": [
    "Now we're ready to try out the different clustering algorithms. Each experiment consists of code to first define the algorithms, most of which are part of another library (already built code publically available), then it has the settings for each algorithm defined. The program goes through every setting and computes the Normalized Mutual Information score through the Scikit-learn library. It then stores the score in a matrix; after all the algorithm settings have been tried out, the matrix is saved as an Excel file with the name of the model corresponding to the name of the spreadsheet."
   ]
  },
  {
   "cell_type": "markdown",
   "id": "80545575",
   "metadata": {},
   "source": [
    "### DBSCAN ###"
   ]
  },
  {
   "cell_type": "code",
   "execution_count": 9,
   "id": "2034aa4b",
   "metadata": {},
   "outputs": [],
   "source": [
    "from sklearn.cluster import DBSCAN\n",
    "\n",
    "def dbscan(X_transformed, eps):\n",
    "    dbs = DBSCAN(eps)\n",
    "    labels = dbs.fit_predict(X_transformed)\n",
    "    return labels"
   ]
  },
  {
   "cell_type": "code",
   "execution_count": 10,
   "id": "783da6b7",
   "metadata": {},
   "outputs": [
    {
     "name": "stdout",
     "output_type": "stream",
     "text": [
      "Best iteration NMI: 0.5665642347011959, ARI: 0.061539305992699175\n",
      "Best hyperparams: 20064.46452997892\n"
     ]
    }
   ],
   "source": [
    "from sklearn.metrics import adjusted_rand_score, normalized_mutual_info_score\n",
    "\n",
    "# Bad practice to ignore warnings, but makes output look more presentable\n",
    "import warnings\n",
    "warnings.filterwarnings(\"ignore\")\n",
    "\n",
    "best_nmi_score = 0.0\n",
    "best_ari_score = 0.0\n",
    "best_eps = -1\n",
    "\n",
    "num_dbscan_params = 100\n",
    "\n",
    "# Define the parameters to test for DBSCAN\n",
    "eps_params = np.random.uniform(size = num_dbscan_params, low = 0, high = 40000)\n",
    "scores_store = np.empty([num_dbscan_params, 1])\n",
    "\n",
    "for i in range(num_dbscan_params):\n",
    "    # Apply clustering with a different setting\n",
    "    labels = dbscan(X, eps_params[i])\n",
    "    adj_r_score = adjusted_rand_score(y, labels)\n",
    "    nmi_score = normalized_mutual_info_score(y, labels)\n",
    "\n",
    "    # Store the score of the trial\n",
    "    scores_store[i] = nmi_score\n",
    "\n",
    "    # Store the best score\n",
    "    if best_nmi_score < nmi_score:\n",
    "        best_nmi_score = nmi_score\n",
    "        best_ari_score = adj_r_score\n",
    "        # best_nc = pca_params[j]\n",
    "        best_eps = eps_params[i]\n",
    "\n",
    "# Export the scores as an Excel sheet\n",
    "df_scores = pd.DataFrame(scores_store)\n",
    "df_scores.columns = [\"DBSCAN Score\"]\n",
    "df_scores.index = eps_params\n",
    "df_scores.to_excel(\"dbscan_scores.xlsx\")\n",
    "\n",
    "print(\"Best iteration NMI: \" + str(best_nmi_score) + \", ARI: \" + str(best_ari_score))\n",
    "print(\"Best hyperparams: \" + str(best_eps))"
   ]
  },
  {
   "cell_type": "markdown",
   "id": "88f4afbd",
   "metadata": {},
   "source": [
    "### GM ###"
   ]
  },
  {
   "cell_type": "code",
   "execution_count": 11,
   "id": "074d7008",
   "metadata": {},
   "outputs": [],
   "source": [
    "from sklearn.mixture import GaussianMixture\n",
    "\n",
    "def gm(X_transformed, n_components):\n",
    "    labels = GaussianMixture(n_components = n_components).fit_predict(X_transformed)\n",
    "    return labels"
   ]
  },
  {
   "cell_type": "code",
   "execution_count": 12,
   "id": "f68c1f7f",
   "metadata": {
    "scrolled": true
   },
   "outputs": [
    {
     "name": "stdout",
     "output_type": "stream",
     "text": [
      "Best iteration NMI: 0.8348250307100925, ARI: 0.5881114792742917\n",
      "Best hyperparams: 76\n"
     ]
    }
   ],
   "source": [
    "import warnings\n",
    "warnings.filterwarnings(\"ignore\")\n",
    "\n",
    "best_ari_score = 0.0\n",
    "best_nmi_score = 0.0\n",
    "best_nc_gm = -1\n",
    "\n",
    "# Define the parameters to test for PCA and GM\n",
    "num_gm_params = 100\n",
    "gm_params = range(1, num_gm_params+1)\n",
    "scores_store = np.empty([num_gm_params])\n",
    "\n",
    "for i in range(num_gm_params):\n",
    "    # Apply clustering with a different setting\n",
    "    labels = gm(X, gm_params[i])\n",
    "    nmi_score = normalized_mutual_info_score(y, labels)\n",
    "    adj_r_score = adjusted_rand_score(y, labels)\n",
    "\n",
    "    # Store the score of the trial\n",
    "    scores_store[i] = nmi_score\n",
    "\n",
    "    # Store best NMI Score and parameters\n",
    "    if best_nmi_score < nmi_score:\n",
    "        best_nmi_score = nmi_score\n",
    "        best_adj_score = adj_r_score\n",
    "        best_nc_gm = gm_params[i]\n",
    "\n",
    "# Export scores and parameters as a spreadsheet\n",
    "df_scores = pd.DataFrame(scores_store)\n",
    "df_scores.columns = [\"Gaussian Mixture Scores\"]\n",
    "df_scores.index = gm_params\n",
    "df_scores.to_excel(\"gm_scores.xlsx\")\n",
    "\n",
    "print(\"Best iteration NMI: \" + str(best_nmi_score) + \", ARI: \" + str(best_adj_score))\n",
    "print(\"Best hyperparams: \" + str(best_nc_gm))"
   ]
  },
  {
   "cell_type": "markdown",
   "id": "75756bb3",
   "metadata": {},
   "source": [
    "### HDBSCAN ###"
   ]
  },
  {
   "cell_type": "code",
   "execution_count": 13,
   "id": "6ee35a06",
   "metadata": {},
   "outputs": [],
   "source": [
    "from sklearn.cluster import HDBSCAN\n",
    "\n",
    "def hdbscan(X_transformed, eps):\n",
    "    dbs = HDBSCAN(cluster_selection_epsilon = eps)\n",
    "    labels = dbs.fit_predict(X_transformed)\n",
    "    return labels"
   ]
  },
  {
   "cell_type": "code",
   "execution_count": 14,
   "id": "55976e86",
   "metadata": {},
   "outputs": [
    {
     "name": "stdout",
     "output_type": "stream",
     "text": [
      "Best iteration NMI: 0.5659064406074092, ARI: 0.05250927660992113\n",
      "Best hyperparams: 22665.573768577833\n"
     ]
    }
   ],
   "source": [
    "from sklearn.metrics import adjusted_rand_score, normalized_mutual_info_score\n",
    "import warnings\n",
    "warnings.filterwarnings(\"ignore\")\n",
    "\n",
    "best_nmi_score = 0.0\n",
    "best_ari_score = 0.0\n",
    "best_eps = -1\n",
    "\n",
    "num_hdbscan_params = 100\n",
    "num_pca_params = 10\n",
    "\n",
    "# Define the parameters to test for PCA and HDBSCAN\n",
    "eps_params = np.random.uniform(size = num_hdbscan_params, low = 0, high = 40000)\n",
    "scores_store = np.empty([num_dbscan_params, 1])\n",
    "\n",
    "for i in range(num_hdbscan_params):\n",
    "    # Apply clustering with a different setting\n",
    "    labels = dbscan(X, eps_params[i])\n",
    "    adj_r_score = adjusted_rand_score(y, labels)\n",
    "    nmi_score = normalized_mutual_info_score(y, labels)\n",
    "\n",
    "    # Store the score of the trial\n",
    "    scores_store[i] = nmi_score\n",
    "\n",
    "    # Store the best score\n",
    "    if best_nmi_score < nmi_score:\n",
    "        best_nmi_score = nmi_score\n",
    "        best_ari_score = adj_r_score\n",
    "        # best_nc = pca_params[j]\n",
    "        best_eps = eps_params[i]\n",
    "\n",
    "# Export the scores as an Excel sheet\n",
    "df_scores = pd.DataFrame(scores_store)\n",
    "df_scores.columns = [\"HDBSCAN Score\"]\n",
    "df_scores.index = eps_params\n",
    "df_scores.to_excel(\"hdbscan_scores.xlsx\")\n",
    "\n",
    "print(\"Best iteration NMI: \" + str(best_nmi_score) + \", ARI: \" + str(best_ari_score))\n",
    "print(\"Best hyperparams: \" + str(best_eps))"
   ]
  },
  {
   "cell_type": "markdown",
   "id": "41a628bb",
   "metadata": {},
   "source": [
    "### Conclusion ###\n",
    "\n",
    "Assessing the performance of all 3 algorithms, it is clear that the impact of dimensionality reduction algorithms depends on the clustering algorithm used. For Gaussian Mixture, which has a best iteration Normalized Mutual Information Score of 0.83 (not too far off from with dimensionality reduction), it is clear that the model doesn't need the dimensionality reduction algorithms tested out earlier (PCA, TSNE, UMAP, and ISOMAP). DBSCAN and HDBSCAN, on the other hand, score around 0.57, which is quite low compared to their accuracy when paired with a dimensionality reduction (HDBSCAN can be over 0.80). It would be quite interesting to do an analysis of the model outputs and explore what whistles are clustered together incorrectly and compare them across models."
   ]
  },
  {
   "cell_type": "code",
   "execution_count": null,
   "id": "3530bfd7",
   "metadata": {},
   "outputs": [],
   "source": []
  }
 ],
 "metadata": {
  "kernelspec": {
   "display_name": "Python 3 (ipykernel)",
   "language": "python",
   "name": "python3"
  },
  "language_info": {
   "codemirror_mode": {
    "name": "ipython",
    "version": 3
   },
   "file_extension": ".py",
   "mimetype": "text/x-python",
   "name": "python",
   "nbconvert_exporter": "python",
   "pygments_lexer": "ipython3",
   "version": "3.9.12"
  }
 },
 "nbformat": 4,
 "nbformat_minor": 5
}
