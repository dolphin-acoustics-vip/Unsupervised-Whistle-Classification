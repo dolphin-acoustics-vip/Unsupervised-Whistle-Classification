{
 "cells": [
  {
   "cell_type": "markdown",
   "id": "0aa060bc",
   "metadata": {},
   "source": [
    "# Implementing and Testing Unsupervised Machine Learning Methods #\n",
    "Author: Ayam Babu, with supervision from Tristan Kleyn and Professor Vincent Janik\n",
    "\n",
    "Date: 24th November, 2023 (Modified 28 January, 2024)\n",
    "\n",
    "Purpose: Student project as part of the Dolphin Acoustics Vertically Integrated Project (VIP) that classifies dolphin signature whistles. Signature whistles are used to uniquely identify individuals dolphins, and they can be useful for extrapolating the population of groups of dolphins. This project focuses on applying machine learning with Python, specifically unsupervised learning methods that do not require extensive datasets to train, to classifying dolphin whistles. The author uses the labelled Sarasota dataset from dolphins in Sarasota, Florida – where each signature whistle recorded is traceable to a known individual dolphin – to assess the effectiveness of the unsupervised learning methods.\n",
    "\n",
    "The programmer has given it their best to document their program, but if a future team member has any further questions, they shouldn't hesitate to contact Ayam Babu at ab550@st-andrews.ac.uk."
   ]
  },
  {
   "cell_type": "markdown",
   "id": "41c15d4a",
   "metadata": {},
   "source": [
    "## Table of Contents: ##\n",
    "1. [Sarasota Dataset Exploration](#Sarasota-Dataset-Exploration)\n",
    "2. [Deciding which models to use](#Deciding-which-models-to-use)\n",
    "3. [Experiments](#Experiments)\n",
    "4. [Analysis & Results](#Analysis-&-Results), final results table: [Top 5 method performances](#Top-5-method-performances)\n",
    "5. [Conclusion & Future Work](#Conclusion-&-Future-Work)\n",
    "6. [Past Work](#Past-Work)"
   ]
  },
  {
   "cell_type": "markdown",
   "id": "873e9d59",
   "metadata": {},
   "source": [
    "## Sarasota Dataset Exploration ##\n",
    "\n",
    "The code below is for finding, then using the dataset. The programmer explored the whistle data closer, so that he could understand the dataset he was working with.\n",
    "\n",
    "Each cell with \"In [#]:\" written after it is a snippet of code that is executed individually. Some of these cells have \"#\" written on the first line: this is an indication that the words following the \"#\" on the line are comments by the programmer."
   ]
  },
  {
   "cell_type": "code",
   "execution_count": 1,
   "id": "528bf745",
   "metadata": {},
   "outputs": [
    {
     "name": "stdout",
     "output_type": "stream",
     "text": [
      "1800 whistles in the dataset\n"
     ]
    }
   ],
   "source": [
    "from os import listdir\n",
    "\n",
    "sarasota_dir_path = \"Full dataset\"\n",
    "sarasota_whistle_paths = listdir(sarasota_dir_path)\n",
    "print(str(len(sarasota_whistle_paths)) + \" whistles in the dataset\")"
   ]
  },
  {
   "cell_type": "code",
   "execution_count": 2,
   "id": "03de85ff",
   "metadata": {},
   "outputs": [],
   "source": [
    "# Gather individual names and signature whistles from the Sarasota dataset and store them in separate lists\n",
    "import pandas as pd\n",
    "\n",
    "individual_names = []\n",
    "signature_whistles = []\n",
    "\n",
    "for sarasota_whistle_path in sarasota_whistle_paths:\n",
    "    individual_name = sarasota_whistle_path.split(\"-\")[0]\n",
    "    individual_names.append(individual_name)\n",
    "    #print(sarasota_dir_path + \"/\" + sarasota_whistle_path)\n",
    "    signature_whistle = pd.read_csv(sarasota_dir_path + \"/\" + sarasota_whistle_path)\n",
    "    signature_whistles.append(signature_whistle)"
   ]
  },
  {
   "cell_type": "code",
   "execution_count": 3,
   "id": "b93137fa",
   "metadata": {},
   "outputs": [],
   "source": [
    "# Collect the first whistle as a sample\n",
    "sarasota_whistle_path_sample = sarasota_whistle_paths[0]\n",
    "individual_name = sarasota_whistle_path_sample.split(\"-\")[0]\n",
    "sample_whistle = pd.read_csv(sarasota_dir_path + \"/\" + sarasota_whistle_path_sample)"
   ]
  },
  {
   "cell_type": "code",
   "execution_count": 4,
   "id": "f6c00348",
   "metadata": {},
   "outputs": [
    {
     "data": {
      "text/html": [
       "<div>\n",
       "<style scoped>\n",
       "    .dataframe tbody tr th:only-of-type {\n",
       "        vertical-align: middle;\n",
       "    }\n",
       "\n",
       "    .dataframe tbody tr th {\n",
       "        vertical-align: top;\n",
       "    }\n",
       "\n",
       "    .dataframe thead th {\n",
       "        text-align: right;\n",
       "    }\n",
       "</style>\n",
       "<table border=\"1\" class=\"dataframe\">\n",
       "  <thead>\n",
       "    <tr style=\"text-align: right;\">\n",
       "      <th></th>\n",
       "      <th>Time [ms]</th>\n",
       "      <th>Peak Frequency [Hz]</th>\n",
       "      <th>Duty Cycle</th>\n",
       "      <th>Energy</th>\n",
       "      <th>WindowRMS</th>\n",
       "    </tr>\n",
       "  </thead>\n",
       "  <tbody>\n",
       "    <tr>\n",
       "      <th>0</th>\n",
       "      <td>1685963745222</td>\n",
       "      <td>8109.3750</td>\n",
       "      <td>1.352765</td>\n",
       "      <td>0.000048</td>\n",
       "      <td>0.022901</td>\n",
       "    </tr>\n",
       "    <tr>\n",
       "      <th>1</th>\n",
       "      <td>1685963745227</td>\n",
       "      <td>7945.3125</td>\n",
       "      <td>1.355840</td>\n",
       "      <td>0.000083</td>\n",
       "      <td>0.025138</td>\n",
       "    </tr>\n",
       "    <tr>\n",
       "      <th>2</th>\n",
       "      <td>1685963745233</td>\n",
       "      <td>7757.8125</td>\n",
       "      <td>1.424948</td>\n",
       "      <td>0.000066</td>\n",
       "      <td>0.027375</td>\n",
       "    </tr>\n",
       "    <tr>\n",
       "      <th>3</th>\n",
       "      <td>1685963745237</td>\n",
       "      <td>7593.7500</td>\n",
       "      <td>1.410701</td>\n",
       "      <td>0.000070</td>\n",
       "      <td>0.027522</td>\n",
       "    </tr>\n",
       "    <tr>\n",
       "      <th>4</th>\n",
       "      <td>1685963745242</td>\n",
       "      <td>7406.2500</td>\n",
       "      <td>1.420021</td>\n",
       "      <td>0.000077</td>\n",
       "      <td>0.027827</td>\n",
       "    </tr>\n",
       "  </tbody>\n",
       "</table>\n",
       "</div>"
      ],
      "text/plain": [
       "       Time [ms]   Peak Frequency [Hz]   Duty Cycle    Energy   WindowRMS\n",
       "0  1685963745222             8109.3750     1.352765  0.000048    0.022901\n",
       "1  1685963745227             7945.3125     1.355840  0.000083    0.025138\n",
       "2  1685963745233             7757.8125     1.424948  0.000066    0.027375\n",
       "3  1685963745237             7593.7500     1.410701  0.000070    0.027522\n",
       "4  1685963745242             7406.2500     1.420021  0.000077    0.027827"
      ]
     },
     "execution_count": 4,
     "metadata": {},
     "output_type": "execute_result"
    }
   ],
   "source": [
    "# Explore a sample whistle from the dataset\n",
    "# Each row represents a hydrophone (microphone in water) reading at a given time in ms\n",
    "# All the readings come together to form the whistle\n",
    "# For readability, the first 5 readings are shown below\n",
    "\n",
    "sample_whistle.head()"
   ]
  },
  {
   "cell_type": "code",
   "execution_count": 5,
   "id": "fb3a952c",
   "metadata": {},
   "outputs": [
    {
     "data": {
      "image/png": "[encoded data removed]",
      "text/plain": [
       "<Figure size 640x480 with 1 Axes>"
      ]
     },
     "metadata": {},
     "output_type": "display_data"
    }
   ],
   "source": [
    "# Plot the first whistle / sample whistle\n",
    "\n",
    "import matplotlib.pyplot as plt\n",
    "fig, ax = plt.subplots()\n",
    "ax.plot(sample_whistle[\"Time [ms]\"] - sample_whistle[\"Time [ms]\"][0], \n",
    "        sample_whistle[\" Peak Frequency [Hz]\"], linewidth = 2.0)\n",
    "\n",
    "plt.xlabel(\"Time [ms]\")\n",
    "plt.ylabel(\"Peak Frequency [Hz]\")\n",
    "plt.title(\"Plot of Sample Whistle (Time [ms] vs. Frequency [Hz])\")\n",
    "\n",
    "plt.show()"
   ]
  },
  {
   "cell_type": "markdown",
   "id": "6e7c75f6",
   "metadata": {},
   "source": [
    "I was curious about the number of readings per whistle, so I decided to plot the distribution of it. This will help me check if all the whistles have the same number of readings or not, and if not, how many whistles are there for each readings range (e.g. there are almost 300 whistles with the number of readings being 0-50, shown below)."
   ]
  },
  {
   "cell_type": "code",
   "execution_count": 6,
   "id": "407dac71",
   "metadata": {},
   "outputs": [
    {
     "data": {
      "image/png": "[encoded data removed]",
      "text/plain": [
       "<Figure size 640x480 with 1 Axes>"
      ]
     },
     "metadata": {},
     "output_type": "display_data"
    }
   ],
   "source": [
    "import numpy as np\n",
    "import matplotlib.pyplot as plt\n",
    "\n",
    "signature_lengths = [len(signature_whistle) for signature_whistle in signature_whistles]\n",
    "plt.hist(signature_lengths, bins = 12)\n",
    "\n",
    "plt.xlabel(\"Number of Readings per Whistle\")\n",
    "plt.ylabel(\"Number of Whistles\")\n",
    "plt.title(\"Number of Readings for Whistles\")\n",
    "\n",
    "plt.show()"
   ]
  },
  {
   "cell_type": "markdown",
   "id": "d7e62fba",
   "metadata": {},
   "source": [
    "## Deciding which models to use ##\n",
    "\n",
    "The programmer is looking into unsupervised machine learning methods, meaning algorithms that aren't required to be trained by datasets. The programmer observed two of many types of unsupervised methods, dimensionality reduction and clustering. Dimensionality reduction algorithms embed large dimensional data – in this case, the whistle – into lower dimensions.\n",
    "\n",
    "With the simplification to lower dimensions, a clustering algorithm can be applied. A clustering algorithm tries to cluster whistles that are similar together, based on how far the whistle's embeddings are from each other. For the purposes of our problem, all whistles enclosed in each cluster represent whistles attributed to the same individual dolphin.\n",
    "\n",
    "The programmer has provided a list below of all the dimensionality reduction and clustering algorithms he has tried out.\n",
    "\n",
    "Dimensionality Reduction:\n",
    "* Principal Component Analysis (PCA)\n",
    "* T-Distributed Stochastic Neighbor Embedding (t-SNE)\n",
    "* Uniform Manifold Approximation & Projection (UMAP)\n",
    "* Isometric Embedding (ISOMAP)\n",
    "\n",
    "Clustering:\n",
    "* Density-Based Spatial Clustering of Applications with Noise (DBSCAN)\n",
    "* Gaussian Mixture (GM)\n",
    "\n",
    "Initially, the programmer also experimented with Kernel Density Estimation (KDE) as a clustering algorithm, but due to time constraints, the programmer has decided to not evaluate it.\n",
    "\n",
    "The programmer decided to use dimensionality reduction algorithms to compress the whistle and the clustering algorithms to bundle them together. Every possible combination of 1 dimensionality reduction algorithm and 1 clustering algorithm has been tried. The produced whistle clusters from each combination have been compared to the dataset's whistle clusters and evaluated through the **Normalized Mutual Information** score.\n",
    "\n",
    "The Normalized Mutual Information score (or NMI) measures the amount of information shared between two sets of clusters on a scale from 0.0 (indicating extreme dissimilarity) to 1.0 (indicating extreme similarity).\n",
    "\n",
    "The **Adjusted Rand Index** score (or ARI) is also tracked, but it is used as a secondary measurement and is not recorded because it makes data more difficult to organize. The Adjusted Rand Index measures the agreement between the items of two sets of clusters.\n"
   ]
  },
  {
   "cell_type": "markdown",
   "id": "1c89cc76",
   "metadata": {},
   "source": [
    "## Experiments ##\n",
    "Multiple experiments were conducted, with a dimensionality reduction and clustering algorithm composing each model trialled. The dimensionality reduction and clustering algorithms each have parameters (settings) picked randomly or intentionally, which adjust the behaviour. The Normalized Mutual Information score (amount of information shared between two clusters, on a scale of 0.0 to 1.0) for each algorithm combination are recorded in separate spreadsheets, with each spreadsheet containing the results for different algorithm settings. The NMI Score will be calculated through the Scikit-learn library, as it has plenty of built-in metrics.\n",
    "\n",
    "Experiments conducted:\n",
    "\n",
    "0. [Preprocessing](#Preprocessing)\n",
    "1. [PCA + DBSCAN](#PCA-+-DBSCAN)\n",
    "2. [PCA + GM](#PCA-+-GM)\n",
    "3. [TSNE + DBSCAN](#TSNE-+-DBSCAN)\n",
    "4. [TSNE + GM](#TSNE-+-GM)\n",
    "5. [UMAP + DBSCAN](#UMAP-+-DBSCAN)\n",
    "6. [UMAP + GM](#UMAP-+-GM)\n",
    "7. [ISOMAP + DBSCAN](#ISOMAP-+-DBSCAN)\n",
    "8. [ISOMAP + GM](#ISOMAP-+-GM)"
   ]
  },
  {
   "cell_type": "markdown",
   "id": "4e50f4b7",
   "metadata": {},
   "source": [
    "### Preprocessing ###\n",
    "Before the whistles can be passed into the models, they need to be processed.\n",
    "\n",
    "After exploring the dataset, the programmer decided to standardize the whistle lengths to 400 readings. This is simply because a lot of unsupervised machine learning methods that the programmer is planning on using requires fixed size inputs. The dolphin identifier is also matched to a number, as it simplifies some of the programming later on."
   ]
  },
  {
   "cell_type": "code",
   "execution_count": 7,
   "id": "950b8b1f",
   "metadata": {},
   "outputs": [
    {
     "name": "stdout",
     "output_type": "stream",
     "text": [
      "(1800, 400)\n",
      "(1800,)\n"
     ]
    }
   ],
   "source": [
    "# Standardize whistle length to size 400\n",
    "\n",
    "whistles = []\n",
    "\n",
    "for signature_whistle in signature_whistles:\n",
    "    size = len(signature_whistle)\n",
    "    newsize = 400\n",
    "\n",
    "    xloc = np.arange(size)\n",
    "    new_xloc = np.linspace(0, size, newsize)\n",
    "    new_sw = np.interp(new_xloc, xloc, signature_whistle[\" Peak Frequency [Hz]\"])\n",
    "    \n",
    "    whistles.append(new_sw)\n",
    "    \n",
    "print(np.shape(whistles))\n",
    "print(np.shape(individual_names))"
   ]
  },
  {
   "cell_type": "code",
   "execution_count": 8,
   "id": "e3784784",
   "metadata": {},
   "outputs": [
    {
     "data": {
      "text/plain": [
       "array([52, 21, 47, ..., 47, 28, 16])"
      ]
     },
     "execution_count": 8,
     "metadata": {},
     "output_type": "execute_result"
    }
   ],
   "source": [
    "# Dolphin identifier (dataset whistle cluster label) matched to a number\n",
    "\n",
    "from sklearn.preprocessing import LabelEncoder\n",
    "le = LabelEncoder()\n",
    "\n",
    "X = whistles\n",
    "y = le.fit_transform(individual_names)\n",
    "\n",
    "y"
   ]
  },
  {
   "cell_type": "markdown",
   "id": "c743c1cf",
   "metadata": {},
   "source": [
    "Now we're ready to try out the different dimensionality reduction and clustering algorithms. Generally, the dimensionality reduction algorithm will be indicated by the first model stated and the clustering algorithm being the second (i.e. (Dimensionality Reduction) + (Clustering)).\n",
    "\n",
    "Each experiment consists of code to first define the algorithms, most of which are part of another library (already built code publically available), then it has the settings for each algorithm defined. The program goes through every pair of settings and computes the Normalized Mutual Information score through the Scikit-learn library. It then stores the score in a matrix; after all the algorithm settings have been tried out, the matrix is saved."
   ]
  },
  {
   "cell_type": "markdown",
   "id": "80545575",
   "metadata": {},
   "source": [
    "### PCA + DBSCAN ###"
   ]
  },
  {
   "cell_type": "code",
   "execution_count": 9,
   "id": "2034aa4b",
   "metadata": {},
   "outputs": [],
   "source": [
    "from sklearn.cluster import DBSCAN\n",
    "\n",
    "def dbscan(X_transformed, eps):\n",
    "    dbs = DBSCAN(eps)\n",
    "    labels = dbs.fit_predict(X_transformed)\n",
    "    return labels"
   ]
  },
  {
   "cell_type": "code",
   "execution_count": 10,
   "id": "5efbccb9",
   "metadata": {},
   "outputs": [],
   "source": [
    "from sklearn.decomposition import PCA\n",
    "\n",
    "def pca(X, n_components):\n",
    "    pca_ = PCA(n_components = n_components)\n",
    "    pca_transformed = pca_.fit_transform(X)\n",
    "    return pca_transformed"
   ]
  },
  {
   "cell_type": "code",
   "execution_count": 11,
   "id": "783da6b7",
   "metadata": {},
   "outputs": [
    {
     "name": "stdout",
     "output_type": "stream",
     "text": [
      "Best iteration NMI: 0.5785870151367803, ARI: 0.06334131798740499\n",
      "Best hyperparams: 20692.991416589117\n"
     ]
    }
   ],
   "source": [
    "from sklearn.metrics import adjusted_rand_score, normalized_mutual_info_score\n",
    "import warnings\n",
    "warnings.filterwarnings(\"ignore\")\n",
    "\n",
    "best_nmi_score = 0.0\n",
    "best_ari_score = 0.0\n",
    "# best_nc = -1\n",
    "best_eps = -1\n",
    "\n",
    "num_dbscan_params = 100\n",
    "num_pca_params = 10\n",
    "\n",
    "# Define the parameters to test for PCA and DBSCAN\n",
    "pca_params = range(1, num_pca_params+1)\n",
    "eps_params = np.random.uniform(size = num_dbscan_params, low = 0, high = 40000)\n",
    "scores_store = np.empty([num_dbscan_params, 1])\n",
    "\n",
    "\"\"\"\n",
    "for j in range(num_pca_params):\n",
    "    # Apply dimensionality reduction with a different setting\n",
    "    X_transformed = pca(X, pca_params[j])\n",
    "\"\"\"\n",
    "for i in range(num_dbscan_params):\n",
    "    # Apply clustering with a different setting\n",
    "    labels = dbscan(X, eps_params[i])\n",
    "    adj_r_score = adjusted_rand_score(y, labels)\n",
    "    nmi_score = normalized_mutual_info_score(y, labels)\n",
    "\n",
    "    # Store the score of the trial\n",
    "    scores_store[i] = nmi_score\n",
    "\n",
    "    # Store the best score\n",
    "    if best_nmi_score < nmi_score:\n",
    "        best_nmi_score = nmi_score\n",
    "        best_ari_score = adj_r_score\n",
    "        # best_nc = pca_params[j]\n",
    "        best_eps = eps_params[i]\n",
    "\n",
    "# Export the scores as an Excel sheet\n",
    "df_scores = pd.DataFrame(scores_store)\n",
    "df_scores.columns = [\"DBSCAN Score\"]\n",
    "df_scores.index = eps_params\n",
    "df_scores.to_excel(\"dbscan_scores.xlsx\")\n",
    "\n",
    "print(\"Best iteration NMI: \" + str(best_nmi_score) + \", ARI: \" + str(best_ari_score))\n",
    "print(\"Best hyperparams: \" + str(best_eps))"
   ]
  },
  {
   "cell_type": "markdown",
   "id": "88f4afbd",
   "metadata": {},
   "source": [
    "### PCA + GM ###"
   ]
  },
  {
   "cell_type": "code",
   "execution_count": 12,
   "id": "074d7008",
   "metadata": {},
   "outputs": [],
   "source": [
    "from sklearn.mixture import GaussianMixture\n",
    "\n",
    "def gm(X_transformed, n_components):\n",
    "    labels = GaussianMixture(n_components = n_components).fit_predict(X_transformed)\n",
    "    return labels"
   ]
  },
  {
   "cell_type": "code",
   "execution_count": 15,
   "id": "f68c1f7f",
   "metadata": {
    "scrolled": true
   },
   "outputs": [
    {
     "name": "stdout",
     "output_type": "stream",
     "text": [
      "Best iteration NMI: 0.8373608202783583, ARI: 0.5981986256405708\n",
      "Best hyperparams: 74\n"
     ]
    }
   ],
   "source": [
    "import warnings\n",
    "warnings.filterwarnings(\"ignore\")\n",
    "\n",
    "best_ari_score = 0.0\n",
    "best_nmi_score = 0.0\n",
    "# best_nc_pca = -1\n",
    "best_nc_gm = -1\n",
    "\n",
    "# Define the parameters to test for PCA and GM\n",
    "num_gm_params = 100\n",
    "# num_pca_params = 10\n",
    "# pca_params = range(1, num_pca_params+1)\n",
    "gm_params = range(1, num_gm_params+1)\n",
    "scores_store = np.empty([num_gm_params])\n",
    "\n",
    "\"\"\"\n",
    "for j in range(num_pca_params):\n",
    "    # Apply dimensionality reduction with a different setting\n",
    "    X_transformed = pca(X, pca_params[j])\n",
    "\"\"\"    \n",
    "\n",
    "for i in range(num_gm_params):\n",
    "    # Apply clustering with a different setting\n",
    "    labels = gm(X, gm_params[i])\n",
    "    nmi_score = normalized_mutual_info_score(y, labels)\n",
    "    adj_r_score = adjusted_rand_score(y, labels)\n",
    "\n",
    "    # Store the score of the trial\n",
    "    scores_store[i] = nmi_score\n",
    "\n",
    "    # Store best NMI Score and parameters\n",
    "    if best_nmi_score < nmi_score:\n",
    "        best_nmi_score = nmi_score\n",
    "        best_adj_score = adj_r_score\n",
    "        # best_nc_pca = pca_params[j]\n",
    "        best_nc_gm = gm_params[i]\n",
    "\n",
    "# Export scores and parameters as a spreadsheet\n",
    "df_scores = pd.DataFrame(scores_store)\n",
    "df_scores.columns = [\"Gaussian Mixture Scores\"]\n",
    "df_scores.index = gm_params\n",
    "df_scores.to_excel(\"gm_scores.xlsx\")\n",
    "\n",
    "print(\"Best iteration NMI: \" + str(best_nmi_score) + \", ARI: \" + str(best_adj_score))\n",
    "print(\"Best hyperparams: \" + str(best_nc_gm))"
   ]
  },
  {
   "cell_type": "markdown",
   "id": "75756bb3",
   "metadata": {},
   "source": [
    "### PCA + HDBSCAN ###"
   ]
  },
  {
   "cell_type": "code",
   "execution_count": 16,
   "id": "6ee35a06",
   "metadata": {},
   "outputs": [],
   "source": [
    "from sklearn.cluster import HDBSCAN\n",
    "\n",
    "def hdbscan(X_transformed, eps):\n",
    "    dbs = HDBSCAN(cluster_selection_epsilon = eps)\n",
    "    labels = dbs.fit_predict(X_transformed)\n",
    "    return labels"
   ]
  },
  {
   "cell_type": "code",
   "execution_count": 17,
   "id": "55976e86",
   "metadata": {},
   "outputs": [
    {
     "name": "stdout",
     "output_type": "stream",
     "text": [
      "Best iteration NMI: 0.5787861825969554, ARI: 0.06332990189443133\n",
      "Best hyperparams: 20776.21107347342\n"
     ]
    }
   ],
   "source": [
    "from sklearn.metrics import adjusted_rand_score, normalized_mutual_info_score\n",
    "import warnings\n",
    "warnings.filterwarnings(\"ignore\")\n",
    "\n",
    "best_nmi_score = 0.0\n",
    "best_ari_score = 0.0\n",
    "# best_nc = -1\n",
    "best_eps = -1\n",
    "\n",
    "num_hdbscan_params = 100\n",
    "num_pca_params = 10\n",
    "\n",
    "# Define the parameters to test for PCA and HDBSCAN\n",
    "pca_params = range(1, num_pca_params+1)\n",
    "eps_params = np.random.uniform(size = num_hdbscan_params, low = 0, high = 40000)\n",
    "scores_store = np.empty([num_dbscan_params, 1])\n",
    "\n",
    "\"\"\"\n",
    "for j in range(num_pca_params):\n",
    "    # Apply dimensionality reduction with a different setting\n",
    "    X_transformed = pca(X, pca_params[j])\n",
    "\"\"\"\n",
    "for i in range(num_hdbscan_params):\n",
    "    # Apply clustering with a different setting\n",
    "    labels = dbscan(X, eps_params[i])\n",
    "    adj_r_score = adjusted_rand_score(y, labels)\n",
    "    nmi_score = normalized_mutual_info_score(y, labels)\n",
    "\n",
    "    # Store the score of the trial\n",
    "    scores_store[i] = nmi_score\n",
    "\n",
    "    # Store the best score\n",
    "    if best_nmi_score < nmi_score:\n",
    "        best_nmi_score = nmi_score\n",
    "        best_ari_score = adj_r_score\n",
    "        # best_nc = pca_params[j]\n",
    "        best_eps = eps_params[i]\n",
    "\n",
    "# Export the scores as an Excel sheet\n",
    "df_scores = pd.DataFrame(scores_store)\n",
    "df_scores.columns = [\"HDBSCAN Score\"]\n",
    "df_scores.index = eps_params\n",
    "df_scores.to_excel(\"hdbscan_scores.xlsx\")\n",
    "\n",
    "print(\"Best iteration NMI: \" + str(best_nmi_score) + \", ARI: \" + str(best_ari_score))\n",
    "print(\"Best hyperparams: \" + str(best_eps))"
   ]
  },
  {
   "cell_type": "code",
   "execution_count": null,
   "id": "7b18acfc",
   "metadata": {},
   "outputs": [],
   "source": []
  },
  {
   "cell_type": "markdown",
   "id": "524841cd",
   "metadata": {},
   "source": [
    "### TSNE + DBSCAN ###"
   ]
  },
  {
   "cell_type": "code",
   "execution_count": 14,
   "id": "deb2e9f2",
   "metadata": {},
   "outputs": [],
   "source": [
    "from sklearn.manifold import TSNE\n",
    "\n",
    "def tsne(X, n_components):\n",
    "    tsne = TSNE(n_components = n_components)\n",
    "    X_transformed = tsne.fit_transform(X)\n",
    "    return X_transformed"
   ]
  },
  {
   "cell_type": "code",
   "execution_count": 15,
   "id": "7f28e7e4",
   "metadata": {},
   "outputs": [
    {
     "name": "stdout",
     "output_type": "stream",
     "text": [
      "Best iteration NMI: 0.8581021933728515, ARI: 0.6426187123694888\n",
      "Best hyperparams: 2, 1.4379699339324028\n"
     ]
    }
   ],
   "source": [
    "# Optimize hyperparameters (eps, n_components)\n",
    "\n",
    "import warnings\n",
    "warnings.filterwarnings(\"ignore\")\n",
    "\n",
    "best_ari_score = 0.0\n",
    "best_nmi_score = 0.0\n",
    "best_nc = -1\n",
    "best_eps = -1\n",
    "\n",
    "# Define the parameters to test for TSNE and DBSCAN\n",
    "num_tsne_params = 3\n",
    "num_dbscan_params = 100\n",
    "tsne_params = range(1, num_tsne_params+1)\n",
    "eps = np.random.uniform(size = num_dbscan_params, low = 0.50, high = 1.50)\n",
    "scores_store = np.empty([num_dbscan_params, num_tsne_params])\n",
    "\n",
    "for j in range(num_tsne_params):\n",
    "    # Apply dimensionality reduction algorithm with different setting\n",
    "    X_transformed = tsne(X, tsne_params[j])\n",
    "    \n",
    "    for i in range(num_dbscan_params):\n",
    "        # Apply clustering algorithm with different setting\n",
    "        labels = dbscan(X_transformed, eps[i])\n",
    "        nmi_score = normalized_mutual_info_score(y, labels)\n",
    "        adj_r_score = adjusted_rand_score(y, labels)\n",
    "        \n",
    "        # Store the score of the trial\n",
    "        scores_store[i][j] = nmi_score\n",
    "        \n",
    "        # Store the best score\n",
    "        if best_nmi_score < nmi_score:\n",
    "            best_nmi_score = nmi_score\n",
    "            best_ari_score = adj_r_score\n",
    "            best_nc = tsne_params[j]\n",
    "            best_eps = eps[i]\n",
    "            \n",
    "\n",
    "# Export the results as an Excel sheet\n",
    "df_scores = pd.DataFrame(scores_store)\n",
    "df_scores.columns = tsne_params\n",
    "df_scores.index = eps\n",
    "df_scores.to_excel(\"tsne_dbscan_scores.xlsx\")\n",
    "\n",
    "print(\"Best iteration NMI: \" + str(best_nmi_score) + \", ARI: \" + str(best_ari_score))\n",
    "print(\"Best hyperparams: \" + str(best_nc) + \", \" + str(best_eps))"
   ]
  },
  {
   "cell_type": "markdown",
   "id": "68883b43",
   "metadata": {},
   "source": [
    "### TSNE + GM ###"
   ]
  },
  {
   "cell_type": "code",
   "execution_count": 16,
   "id": "412dd63b",
   "metadata": {},
   "outputs": [
    {
     "name": "stdout",
     "output_type": "stream",
     "text": [
      "Best iteration NMI: 0.867357307734949, ARI: 0.6896413939945676\n",
      "Best hyperparams: 3, 62\n"
     ]
    }
   ],
   "source": [
    "import warnings\n",
    "warnings.filterwarnings(\"ignore\")\n",
    "\n",
    "best_ari_score = 0.0\n",
    "best_nmi_score = 0.0\n",
    "best_nc_tsne = -1\n",
    "best_nc_gm = -1\n",
    "\n",
    "num_tsne_params = 3\n",
    "num_gm_params = 100\n",
    "\n",
    "# Define the parameters to test for TSNE and GM\n",
    "tsne_params = range(1, num_tsne_params+1)\n",
    "gm_params = range(1, num_gm_params+1)\n",
    "scores_store = np.empty([num_gm_params, num_tsne_params])\n",
    "\n",
    "for j in range(num_tsne_params):\n",
    "    # Apply dimensionality reduction algorithm with different setting\n",
    "    X_transformed = tsne(X, tsne_params[j])\n",
    "    \n",
    "    for i in range(num_gm_params):\n",
    "        # Apply clustering algorithm with different setting\n",
    "        labels = gm(X_transformed, gm_params[i])\n",
    "        adj_r_score = adjusted_rand_score(y, labels)\n",
    "        nmi_score = normalized_mutual_info_score(y, labels)\n",
    "        \n",
    "        # Store the score of the trial\n",
    "        scores_store[i][j] = nmi_score\n",
    "        \n",
    "        # Store the best NMI score\n",
    "        if best_nmi_score < nmi_score:\n",
    "            best_nmi_score = nmi_score\n",
    "            best_ari_score = adj_r_score\n",
    "            best_nc_tsne = tsne_params[j]\n",
    "            best_nc_gm = gm_params[i]\n",
    "\n",
    "# Export the results of the experiments as an Excel sheet\n",
    "df_scores = pd.DataFrame(scores_store)\n",
    "df_scores.columns = tsne_params\n",
    "df_scores.index = gm_params\n",
    "df_scores.to_excel(\"tsne_gm_scores.xlsx\")\n",
    "\n",
    "print(\"Best iteration NMI: \" + str(best_nmi_score) + \", ARI: \" + str(best_ari_score))\n",
    "print(\"Best hyperparams: \" + str(best_nc_tsne) + \", \" + str(best_nc_gm))"
   ]
  },
  {
   "cell_type": "markdown",
   "id": "ec18ae98",
   "metadata": {},
   "source": [
    "### UMAP + DBSCAN ###"
   ]
  },
  {
   "cell_type": "code",
   "execution_count": 17,
   "id": "b7acf4d2",
   "metadata": {},
   "outputs": [
    {
     "name": "stderr",
     "output_type": "stream",
     "text": [
      "2024-02-01 21:53:31.888234: I tensorflow/core/platform/cpu_feature_guard.cc:193] This TensorFlow binary is optimized with oneAPI Deep Neural Network Library (oneDNN) to use the following CPU instructions in performance-critical operations:  AVX2 FMA\n",
      "To enable them in other operations, rebuild TensorFlow with the appropriate compiler flags.\n"
     ]
    }
   ],
   "source": [
    "import umap\n",
    "\n",
    "def umap_embed(X, n_components):\n",
    "    X_transformed = umap.UMAP(n_components = n_components).fit_transform(X)\n",
    "    return X_transformed"
   ]
  },
  {
   "cell_type": "code",
   "execution_count": 18,
   "id": "35ca3b7d",
   "metadata": {},
   "outputs": [
    {
     "name": "stderr",
     "output_type": "stream",
     "text": [
      "OMP: Info #276: omp_set_nested routine deprecated, please use omp_set_max_active_levels instead.\n"
     ]
    },
    {
     "name": "stdout",
     "output_type": "stream",
     "text": [
      "Best iteration NMI: 0.8630819430220348, ARI: 0.6730290021333599\n",
      "Best hyperparams: 6, 0.24359921798897038\n"
     ]
    }
   ],
   "source": [
    "import warnings\n",
    "warnings.filterwarnings(\"ignore\")\n",
    "\n",
    "best_ari_score = 0.0\n",
    "best_nmi_score = 0.0\n",
    "best_nc = -1\n",
    "best_eps = -1\n",
    "\n",
    "num_umap_params = 10\n",
    "num_dbscan_params = 100\n",
    "\n",
    "# Define the parameters to test for UMAP and DBSCAN\n",
    "umap_params = range(1, num_umap_params+1)\n",
    "dbscan_params = np.random.uniform(size = num_dbscan_params, low = 0.05, high = 0.35)\n",
    "scores_store = np.empty([num_dbscan_params, num_umap_params])\n",
    "\n",
    "for j in range(num_umap_params):\n",
    "    # Apply dimensionality reduction with different settings\n",
    "    X_transformed = umap_embed(X, umap_params[j])\n",
    "\n",
    "    for i in range(num_dbscan_params):\n",
    "        # Apply clustering with different settings\n",
    "        labels = dbscan(X_transformed, dbscan_params[i])\n",
    "        nmi_score = normalized_mutual_info_score(y, labels)\n",
    "        adj_r_score = adjusted_rand_score(y, labels)\n",
    "        \n",
    "        # Store the score of the trial\n",
    "        scores_store[i][j] = nmi_score\n",
    "        \n",
    "        # Store the best NMI score\n",
    "        if best_nmi_score < nmi_score:\n",
    "            best_nmi_score = nmi_score\n",
    "            best_ari_score = adj_r_score\n",
    "            best_nc = umap_params[j]\n",
    "            best_eps = dbscan_params[i]\n",
    "\n",
    "# Export the experiment scores as an Excel sheet\n",
    "df_scores = pd.DataFrame(scores_store)\n",
    "df_scores.columns = umap_params\n",
    "df_scores.index = dbscan_params\n",
    "df_scores.to_excel(\"umap_dbscan_scores.xlsx\")\n",
    "\n",
    "print(\"Best iteration NMI: \" + str(best_nmi_score) + \", ARI: \" + str(best_ari_score))\n",
    "print(\"Best hyperparams: \" + str(best_nc) + \", \" + str(best_eps))"
   ]
  },
  {
   "cell_type": "markdown",
   "id": "74becb3f",
   "metadata": {},
   "source": [
    "### UMAP + GM ###"
   ]
  },
  {
   "cell_type": "code",
   "execution_count": 19,
   "id": "8b70e3fd",
   "metadata": {},
   "outputs": [
    {
     "name": "stdout",
     "output_type": "stream",
     "text": [
      "Best iteration NMI: 0.8697225726149501, ARI: 0.6931048513531398\n",
      "Best hyperparams: 4, 57\n"
     ]
    }
   ],
   "source": [
    "import warnings\n",
    "warnings.filterwarnings(\"ignore\")\n",
    "\n",
    "best_ari_score = 0.0\n",
    "best_nmi_score = 0.0\n",
    "best_nc_umap = -1\n",
    "best_nc_gm = -1\n",
    "\n",
    "num_umap_params = 10\n",
    "num_gm_params = 100\n",
    "\n",
    "# Define the parameters to test for UMAP and GM\n",
    "umap_params = range(1, num_umap_params+1)\n",
    "gm_params = range(1, num_gm_params+1)\n",
    "scores_store = np.empty([num_gm_params, num_umap_params])\n",
    "\n",
    "for j in range(num_umap_params):\n",
    "    # Apply dimensionality reduction with different settings\n",
    "    X_transformed = umap_embed(X, umap_params[j])\n",
    "    \n",
    "    for i in range(num_gm_params):\n",
    "        # Apply clustering with different settings\n",
    "        labels = gm(X_transformed, gm_params[i])\n",
    "        adj_r_score = adjusted_rand_score(y, labels)\n",
    "        nmi_score = normalized_mutual_info_score(y, labels)\n",
    "        \n",
    "        # Store the score of the trial\n",
    "        scores_store[i][j] = nmi_score\n",
    "        \n",
    "        # Store the best NMI Score\n",
    "        if best_nmi_score < nmi_score:\n",
    "            best_nmi_score = nmi_score\n",
    "            best_ari_score = adj_r_score\n",
    "            best_nc_umap = umap_params[j]\n",
    "            best_nc_gm = gm_params[i] \n",
    "                 \n",
    "# Export the results as an Excel file\n",
    "df_scores = pd.DataFrame(scores_store)\n",
    "df_scores.columns = umap_params\n",
    "df_scores.index = gm_params\n",
    "df_scores.to_excel(\"umap_gm_scores.xlsx\")\n",
    "\n",
    "print(\"Best iteration NMI: \" + str(best_nmi_score) + \", ARI: \" + str(best_ari_score))\n",
    "print(\"Best hyperparams: \" + str(best_nc_umap) + \", \" + str(best_nc_gm))"
   ]
  },
  {
   "cell_type": "markdown",
   "id": "befcd86f",
   "metadata": {},
   "source": [
    "### ISOMAP + DBSCAN ###"
   ]
  },
  {
   "cell_type": "code",
   "execution_count": 20,
   "id": "1756d6fb",
   "metadata": {},
   "outputs": [],
   "source": [
    "from sklearn.manifold import Isomap\n",
    "\n",
    "def isomap(X, n_components):\n",
    "    X_transformed = Isomap(n_components = n_components).fit_transform(X)\n",
    "    return X_transformed"
   ]
  },
  {
   "cell_type": "code",
   "execution_count": 21,
   "id": "03a95616",
   "metadata": {},
   "outputs": [
    {
     "name": "stdout",
     "output_type": "stream",
     "text": [
      "Best iteration NMI: 0.7359351997720335, ARI: 0.2291632589594213\n",
      "Best hyperparams: 47, 39630.016284477664\n"
     ]
    }
   ],
   "source": [
    "import warnings\n",
    "warnings.filterwarnings(\"ignore\")\n",
    "\n",
    "best_ari_score = 0.0\n",
    "best_nmi_score = 0.0\n",
    "best_nc = -1\n",
    "best_eps = -1\n",
    "\n",
    "num_isomap_params = 50\n",
    "num_dbscan_params = 100\n",
    "\n",
    "# Define the parameters for ISOMAP and DBSCAN to use\n",
    "isomap_params = range(1, num_isomap_params+1)\n",
    "dbscan_params = np.power(10, np.random.uniform(size = num_dbscan_params, low = 1.00, high = 5.00))\n",
    "scores_store = np.empty([num_dbscan_params, num_isomap_params])\n",
    "\n",
    "for j in range(num_isomap_params):\n",
    "    # Apply dimensionality reduction with different settings\n",
    "    X_transformed = isomap(X, isomap_params[j])\n",
    "    \n",
    "    for i in range(num_dbscan_params):\n",
    "        # Apply clustering with different settings\n",
    "        labels = dbscan(X_transformed, dbscan_params[i])\n",
    "        nmi_score = normalized_mutual_info_score(y, labels)\n",
    "        adj_r_score = adjusted_rand_score(y, labels)\n",
    "        \n",
    "        # Store the score of the trial\n",
    "        scores_store[i][j] = nmi_score\n",
    "        \n",
    "        # Store the best NMI Score\n",
    "        if best_nmi_score < nmi_score:\n",
    "            best_nmi_score = nmi_score\n",
    "            best_ari_score = adj_r_score\n",
    "            best_nc = isomap_params[j]\n",
    "            best_eps = dbscan_params[i]\n",
    "            \n",
    "# Export the results as an Excel file\n",
    "df_scores = pd.DataFrame(scores_store)\n",
    "df_scores.columns = isomap_params\n",
    "df_scores.index = dbscan_params\n",
    "df_scores.to_excel(\"isomap_dbscan_scores.xlsx\")\n",
    "\n",
    "print(\"Best iteration NMI: \" + str(best_nmi_score) + \", ARI: \" + str(best_ari_score))\n",
    "print(\"Best hyperparams: \" + str(best_nc) + \", \" + str(best_eps))"
   ]
  },
  {
   "cell_type": "markdown",
   "id": "6dc8fde3",
   "metadata": {},
   "source": [
    "### ISOMAP + GM ###"
   ]
  },
  {
   "cell_type": "code",
   "execution_count": 22,
   "id": "d6793825",
   "metadata": {},
   "outputs": [
    {
     "name": "stdout",
     "output_type": "stream",
     "text": [
      "ISOMAP Parameter: 1, GM Parameter: 32 is invalid, trying again...\n",
      "ISOMAP Parameter: 27, GM Parameter: 85 is invalid, trying again...\n",
      "ISOMAP Parameter: 30, GM Parameter: 26 is invalid, trying again...\n",
      "ISOMAP Parameter: 31, GM Parameter: 95 is invalid, trying again...\n",
      "ISOMAP Parameter: 33, GM Parameter: 99 is invalid, trying again...\n",
      "ISOMAP Parameter: 34, GM Parameter: 65 is invalid, trying again...\n",
      "ISOMAP Parameter: 40, GM Parameter: 26 is invalid, trying again...\n",
      "ISOMAP Parameter: 41, GM Parameter: 50 is invalid, trying again...\n",
      "ISOMAP Parameter: 42, GM Parameter: 57 is invalid, trying again...\n",
      "ISOMAP Parameter: 43, GM Parameter: 8 is invalid, trying again...\n",
      "ISOMAP Parameter: 44, GM Parameter: 98 is invalid, trying again...\n",
      "ISOMAP Parameter: 45, GM Parameter: 13 is invalid, trying again...\n",
      "ISOMAP Parameter: 46, GM Parameter: 5 is invalid, trying again...\n",
      "ISOMAP Parameter: 47, GM Parameter: 7 is invalid, trying again...\n",
      "ISOMAP Parameter: 48, GM Parameter: 62 is invalid, trying again...\n",
      "Best iteration NMI: 0.8457262504051518, ARI: 0.608269800763929\n",
      "Best hyperparams: 36, 68\n"
     ]
    }
   ],
   "source": [
    "import warnings\n",
    "warnings.filterwarnings(\"ignore\")\n",
    "\n",
    "best_ari_score = 0.0\n",
    "best_nmi_score = 0.0\n",
    "best_nc_isomap = -1\n",
    "best_nc_gm = -1\n",
    "\n",
    "num_isomap_params = 50\n",
    "num_gm_params = 100\n",
    "\n",
    "# Define the parameters for ISOMAP and GM to use\n",
    "isomap_params = range(1, num_isomap_params+1)\n",
    "gm_params = range(1, num_gm_params+1)\n",
    "scores_store = np.empty([num_gm_params, num_isomap_params])\n",
    "\n",
    "for j in range(num_isomap_params):\n",
    "    # Apply dimensionality reduction with different settings\n",
    "    X_transformed = isomap(X, isomap_params[j])\n",
    "    \n",
    "    for i in range(num_gm_params):\n",
    "        # Apply clustering with different settings\n",
    "        try:\n",
    "            labels = gm(X_transformed, gm_params[i])\n",
    "        except:\n",
    "            print(\"ISOMAP Parameter: \" + str(j) + \", GM Parameter: \" + str(i) + \" is invalid, trying again...\")\n",
    "            break\n",
    "        \n",
    "        adj_r_score = adjusted_rand_score(y, labels)\n",
    "        nmi_score = normalized_mutual_info_score(y, labels)\n",
    "        \n",
    "        # Store the score of the trial\n",
    "        scores_store[i][j] = nmi_score\n",
    "        \n",
    "        # Store the best NMI Score\n",
    "        if best_nmi_score < nmi_score:\n",
    "            best_nmi_score = nmi_score\n",
    "            best_ari_score = adj_r_score\n",
    "            best_nc_isomap = isomap_params[j]\n",
    "            best_nc_gm = gm_params[i]\n",
    "            \n",
    "# Export the results as an Excel file\n",
    "df_scores = pd.DataFrame(scores_store)\n",
    "df_scores.columns = isomap_params\n",
    "df_scores.index = gm_params\n",
    "df_scores.to_excel(\"isomap_gm_scores.xlsx\")\n",
    "\n",
    "print(\"Best iteration NMI: \" + str(best_nmi_score) + \", ARI: \" + str(best_ari_score))\n",
    "print(\"Best hyperparams: \" + str(best_nc_isomap) + \", \" + str(best_nc_gm))"
   ]
  },
  {
   "cell_type": "markdown",
   "id": "cff10fa9",
   "metadata": {},
   "source": [
    "The Gaussian Mixture model can run into problems with certain input. Trying to understand why this happens requires further investigation, but to keep it simple, the invalid input are simply skipped."
   ]
  },
  {
   "cell_type": "markdown",
   "id": "22630971",
   "metadata": {},
   "source": [
    "## Analysis & Results ##\n",
    "After conducting experiments, it is important to analyze the effectiveness of each algorithm pair. The 5 most optimal settings of each algorithm pair are picked and experimented with. Their mean and standard deviation are calculated to evaluate how accurate and consistent the classifications are."
   ]
  },
  {
   "cell_type": "code",
   "execution_count": 28,
   "id": "fd5ff28a",
   "metadata": {},
   "outputs": [],
   "source": [
    "import pandas as pd\n",
    "\n",
    "# Clustering algorithms\n",
    "cluster_algorithms = [\"dbscan\", \"hdbscan\", \"gm\"]\n",
    "algo_params_dict = {}\n",
    "\n",
    "for cluster_algo in cluster_algorithms:\n",
    "    # Access each algorithm pair's results\n",
    "    score_df = pd.read_excel(cluster_algo + \"_scores.xlsx\", index_col = 0)\n",
    "    cluster_params = score_df.index\n",
    "\n",
    "    # Pick out top 5 highest performing parameter pairs from matrix\n",
    "    scores_matrix = score_df.to_numpy()\n",
    "    top_5_params_indexes = scores_matrix.flatten().argsort()[-5:]\n",
    "\n",
    "    list_param_pairs = []\n",
    "\n",
    "    # Pick out embedding and clustering algorithm parameters from matrix and store\n",
    "    for index in top_5_params_indexes:\n",
    "        cluster_param = cluster_params[index]\n",
    "        list_param_pairs.append((0, cluster_param))\n",
    "\n",
    "    algo_params_dict[cluster_algo] = list_param_pairs"
   ]
  },
  {
   "cell_type": "code",
   "execution_count": 29,
   "id": "e302e65f",
   "metadata": {},
   "outputs": [],
   "source": [
    "# Block of code to evaluate \n",
    "# Separated because this chunk of code needs to be called again and again\n",
    "\n",
    "def evaluate_algorithm(X, y, dr_algo, cluster_algo, params, trial_num):\n",
    "    # Time algorithm runtime\n",
    "    start_time = time.time_ns()\n",
    "    \n",
    "    # Apply the dimensionality reduction algorithm with the appropriate parameter\n",
    "    if dr_algo == \"pca\":\n",
    "        X_transformed = pca(X, params[0])\n",
    "    elif dr_algo == \"tsne\":\n",
    "        X_transformed = tsne(X, params[0])\n",
    "    elif dr_algo == \"umap\":\n",
    "        X_transformed = umap_embed(X, params[0])\n",
    "    elif dr_algo == \"isomap\":\n",
    "        X_transformed = isomap(X, params[0])\n",
    "    else:\n",
    "        X_transformed = X\n",
    "\n",
    "    # Apply the clustering algorithm with the appropriate parameter\n",
    "    if cluster_algo == \"dbscan\":\n",
    "        labels = dbscan(X_transformed, params[1])\n",
    "    elif cluster_algo == \"gm\":\n",
    "        labels = gm(X_transformed, params[1])\n",
    "    elif cluster_algo == \"hdbscan\":\n",
    "        labels = hdbscan(X_transformed, params[1])\n",
    "\n",
    "    end_time = time.time_ns()\n",
    "\n",
    "    # Score the predictions of the algorithm pair\n",
    "    nmi_score = normalized_mutual_info_score(y, labels)\n",
    "    ari_score = adjusted_rand_score(y, labels)\n",
    "    \n",
    "    # Gather all the relevant information together\n",
    "    row_to_append = {\"Dimensionality Reduction algorithm\": dr_algo, \"Clustering algorithm\": cluster_algo, \n",
    "                     \"Dimensionality Reduction parameter\": params[0], \"Clustering parameter\": params[1], \n",
    "                     \"Trial number\": trial_num, \"NMI Score\": nmi_score, \"ARI Score\": ari_score, \n",
    "                     \"Time taken (ms)\": (end_time-start_time) // 1_000_000}\n",
    "    \n",
    "    return row_to_append"
   ]
  },
  {
   "cell_type": "code",
   "execution_count": 30,
   "id": "9c46eb51",
   "metadata": {},
   "outputs": [],
   "source": [
    "import random\n",
    "from sklearn.metrics import adjusted_rand_score, normalized_mutual_info_score\n",
    "import time\n",
    "\n",
    "# Create a results table and start populating it\n",
    "results_df = pd.DataFrame(columns = [\"Dimensionality Reduction algorithm\", \"Clustering algorithm\", \n",
    "                                     \"Dimensionality Reduction parameter\", \"Clustering parameter\", \n",
    "                                     \"Trial number\", \"NMI Score\", \"ARI Score\", \"Time taken (ms)\"])\n",
    "\n",
    "for pair, top_params in algo_params_dict.items():\n",
    "    dr_algo, cluster_algo = \"N/A\", pair\n",
    "    \n",
    "    # Assess whether shuffling the dataset has any impact on the quality of classifications\n",
    "    for params in top_params:\n",
    "        # 5 trials, randomly shuffling the dataset\n",
    "        for trial_num in range(1, 5+1):\n",
    "            X_to_shuffle = X.copy()\n",
    "            y_to_shuffle = y.copy()\n",
    "\n",
    "            # Shuffle the dataset\n",
    "            zipped_list_dataset = list(zip(X_to_shuffle, y_to_shuffle))\n",
    "            random.shuffle(zipped_list_dataset)\n",
    "\n",
    "            X_to_shuffle, y_to_shuffle = zip(*zipped_list_dataset)\n",
    "\n",
    "            # Evaluate and gather rows together\n",
    "            row_to_append = evaluate_algorithm(X_to_shuffle, y_to_shuffle, dr_algo, cluster_algo, params, trial_num)\n",
    "            results_df.loc[len(results_df)] = row_to_append"
   ]
  },
  {
   "cell_type": "code",
   "execution_count": 31,
   "id": "bd68f480",
   "metadata": {},
   "outputs": [
    {
     "data": {
      "text/html": [
       "<div>\n",
       "<style scoped>\n",
       "    .dataframe tbody tr th:only-of-type {\n",
       "        vertical-align: middle;\n",
       "    }\n",
       "\n",
       "    .dataframe tbody tr th {\n",
       "        vertical-align: top;\n",
       "    }\n",
       "\n",
       "    .dataframe thead th {\n",
       "        text-align: right;\n",
       "    }\n",
       "</style>\n",
       "<table border=\"1\" class=\"dataframe\">\n",
       "  <thead>\n",
       "    <tr style=\"text-align: right;\">\n",
       "      <th></th>\n",
       "      <th>Dimensionality Reduction algorithm</th>\n",
       "      <th>Clustering algorithm</th>\n",
       "      <th>Dimensionality Reduction parameter</th>\n",
       "      <th>Clustering parameter</th>\n",
       "      <th>Trial number</th>\n",
       "      <th>NMI Score</th>\n",
       "      <th>ARI Score</th>\n",
       "      <th>Time taken (ms)</th>\n",
       "    </tr>\n",
       "  </thead>\n",
       "  <tbody>\n",
       "    <tr>\n",
       "      <th>0</th>\n",
       "      <td>N/A</td>\n",
       "      <td>dbscan</td>\n",
       "      <td>0</td>\n",
       "      <td>20152.827688</td>\n",
       "      <td>1</td>\n",
       "      <td>0.568268</td>\n",
       "      <td>0.061607</td>\n",
       "      <td>123</td>\n",
       "    </tr>\n",
       "    <tr>\n",
       "      <th>1</th>\n",
       "      <td>N/A</td>\n",
       "      <td>dbscan</td>\n",
       "      <td>0</td>\n",
       "      <td>20152.827688</td>\n",
       "      <td>2</td>\n",
       "      <td>0.568268</td>\n",
       "      <td>0.061607</td>\n",
       "      <td>67</td>\n",
       "    </tr>\n",
       "    <tr>\n",
       "      <th>2</th>\n",
       "      <td>N/A</td>\n",
       "      <td>dbscan</td>\n",
       "      <td>0</td>\n",
       "      <td>20152.827688</td>\n",
       "      <td>3</td>\n",
       "      <td>0.568293</td>\n",
       "      <td>0.061624</td>\n",
       "      <td>50</td>\n",
       "    </tr>\n",
       "    <tr>\n",
       "      <th>3</th>\n",
       "      <td>N/A</td>\n",
       "      <td>dbscan</td>\n",
       "      <td>0</td>\n",
       "      <td>20152.827688</td>\n",
       "      <td>4</td>\n",
       "      <td>0.568293</td>\n",
       "      <td>0.061624</td>\n",
       "      <td>41</td>\n",
       "    </tr>\n",
       "    <tr>\n",
       "      <th>4</th>\n",
       "      <td>N/A</td>\n",
       "      <td>dbscan</td>\n",
       "      <td>0</td>\n",
       "      <td>20152.827688</td>\n",
       "      <td>5</td>\n",
       "      <td>0.568223</td>\n",
       "      <td>0.061570</td>\n",
       "      <td>41</td>\n",
       "    </tr>\n",
       "  </tbody>\n",
       "</table>\n",
       "</div>"
      ],
      "text/plain": [
       "  Dimensionality Reduction algorithm Clustering algorithm  \\\n",
       "0                                N/A               dbscan   \n",
       "1                                N/A               dbscan   \n",
       "2                                N/A               dbscan   \n",
       "3                                N/A               dbscan   \n",
       "4                                N/A               dbscan   \n",
       "\n",
       "   Dimensionality Reduction parameter  Clustering parameter  Trial number  \\\n",
       "0                                   0          20152.827688             1   \n",
       "1                                   0          20152.827688             2   \n",
       "2                                   0          20152.827688             3   \n",
       "3                                   0          20152.827688             4   \n",
       "4                                   0          20152.827688             5   \n",
       "\n",
       "   NMI Score  ARI Score  Time taken (ms)  \n",
       "0   0.568268   0.061607              123  \n",
       "1   0.568268   0.061607               67  \n",
       "2   0.568293   0.061624               50  \n",
       "3   0.568293   0.061624               41  \n",
       "4   0.568223   0.061570               41  "
      ]
     },
     "execution_count": 31,
     "metadata": {},
     "output_type": "execute_result"
    }
   ],
   "source": [
    "# Note: .head() used to get first 5 rows, get an idea of how the (large) table looks\n",
    "results_df.head()"
   ]
  },
  {
   "cell_type": "markdown",
   "id": "193c8a0b",
   "metadata": {},
   "source": [
    "\n",
    "**Remarks:** The results of each method's trials are averaged out to get a general indication of how effective the algorithm is in general with its chosen parameters.\n"
   ]
  },
  {
   "cell_type": "code",
   "execution_count": 32,
   "id": "7ced8c24",
   "metadata": {},
   "outputs": [
    {
     "data": {
      "text/html": [
       "<div>\n",
       "<style scoped>\n",
       "    .dataframe tbody tr th:only-of-type {\n",
       "        vertical-align: middle;\n",
       "    }\n",
       "\n",
       "    .dataframe tbody tr th {\n",
       "        vertical-align: top;\n",
       "    }\n",
       "\n",
       "    .dataframe thead th {\n",
       "        text-align: right;\n",
       "    }\n",
       "</style>\n",
       "<table border=\"1\" class=\"dataframe\">\n",
       "  <thead>\n",
       "    <tr style=\"text-align: right;\">\n",
       "      <th></th>\n",
       "      <th></th>\n",
       "      <th></th>\n",
       "      <th></th>\n",
       "      <th>NMI StD</th>\n",
       "      <th>ARI StD</th>\n",
       "      <th>Time taken (ms)</th>\n",
       "    </tr>\n",
       "    <tr>\n",
       "      <th>Dimensionality Reduction algorithm</th>\n",
       "      <th>Clustering algorithm</th>\n",
       "      <th>Dimensionality Reduction parameter</th>\n",
       "      <th>Clustering parameter</th>\n",
       "      <th></th>\n",
       "      <th></th>\n",
       "      <th></th>\n",
       "    </tr>\n",
       "  </thead>\n",
       "  <tbody>\n",
       "    <tr>\n",
       "      <th rowspan=\"5\" valign=\"top\">N/A</th>\n",
       "      <th rowspan=\"5\" valign=\"top\">dbscan</th>\n",
       "      <th rowspan=\"5\" valign=\"top\">0</th>\n",
       "      <th>20152.827688</th>\n",
       "      <td>2.856915e-05</td>\n",
       "      <td>0.000022</td>\n",
       "      <td>34.435447</td>\n",
       "    </tr>\n",
       "    <tr>\n",
       "      <th>20314.806646</th>\n",
       "      <td>1.356568e-05</td>\n",
       "      <td>0.000009</td>\n",
       "      <td>1.095445</td>\n",
       "    </tr>\n",
       "    <tr>\n",
       "      <th>20613.455881</th>\n",
       "      <td>5.551115e-17</td>\n",
       "      <td>0.000000</td>\n",
       "      <td>3.781534</td>\n",
       "    </tr>\n",
       "    <tr>\n",
       "      <th>20637.670510</th>\n",
       "      <td>1.288818e-05</td>\n",
       "      <td>0.000014</td>\n",
       "      <td>1.673320</td>\n",
       "    </tr>\n",
       "    <tr>\n",
       "      <th>20692.991417</th>\n",
       "      <td>8.341082e-05</td>\n",
       "      <td>0.000029</td>\n",
       "      <td>2.000000</td>\n",
       "    </tr>\n",
       "  </tbody>\n",
       "</table>\n",
       "</div>"
      ],
      "text/plain": [
       "                                                                                                                      NMI StD  \\\n",
       "Dimensionality Reduction algorithm Clustering algorithm Dimensionality Reduction parameter Clustering parameter                 \n",
       "N/A                                dbscan               0                                  20152.827688          2.856915e-05   \n",
       "                                                                                           20314.806646          1.356568e-05   \n",
       "                                                                                           20613.455881          5.551115e-17   \n",
       "                                                                                           20637.670510          1.288818e-05   \n",
       "                                                                                           20692.991417          8.341082e-05   \n",
       "\n",
       "                                                                                                                  ARI StD  \\\n",
       "Dimensionality Reduction algorithm Clustering algorithm Dimensionality Reduction parameter Clustering parameter             \n",
       "N/A                                dbscan               0                                  20152.827688          0.000022   \n",
       "                                                                                           20314.806646          0.000009   \n",
       "                                                                                           20613.455881          0.000000   \n",
       "                                                                                           20637.670510          0.000014   \n",
       "                                                                                           20692.991417          0.000029   \n",
       "\n",
       "                                                                                                                 Time taken (ms)  \n",
       "Dimensionality Reduction algorithm Clustering algorithm Dimensionality Reduction parameter Clustering parameter                   \n",
       "N/A                                dbscan               0                                  20152.827688                34.435447  \n",
       "                                                                                           20314.806646                 1.095445  \n",
       "                                                                                           20613.455881                 3.781534  \n",
       "                                                                                           20637.670510                 1.673320  \n",
       "                                                                                           20692.991417                 2.000000  "
      ]
     },
     "execution_count": 32,
     "metadata": {},
     "output_type": "execute_result"
    }
   ],
   "source": [
    "# Standard Deviations of Normalized Mutual Information and Adjusted Rand Index scores\n",
    "# Reformat the table to look more presentable\n",
    "\n",
    "results_std = results_df.groupby([\"Dimensionality Reduction algorithm\", \"Clustering algorithm\", \n",
    "                                  \"Dimensionality Reduction parameter\", \"Clustering parameter\"]).std()\n",
    "results_std.drop(columns = [\"Trial number\"], inplace = True)\n",
    "results_std.rename(columns = {\"NMI Score\": \"NMI StD\", \"ARI Score\": \"ARI StD\"}, inplace = True)\n",
    "results_std.head()"
   ]
  },
  {
   "cell_type": "code",
   "execution_count": 33,
   "id": "4c0d2d77",
   "metadata": {},
   "outputs": [
    {
     "data": {
      "text/html": [
       "<div>\n",
       "<style scoped>\n",
       "    .dataframe tbody tr th:only-of-type {\n",
       "        vertical-align: middle;\n",
       "    }\n",
       "\n",
       "    .dataframe tbody tr th {\n",
       "        vertical-align: top;\n",
       "    }\n",
       "\n",
       "    .dataframe thead th {\n",
       "        text-align: right;\n",
       "    }\n",
       "</style>\n",
       "<table border=\"1\" class=\"dataframe\">\n",
       "  <thead>\n",
       "    <tr style=\"text-align: right;\">\n",
       "      <th></th>\n",
       "      <th></th>\n",
       "      <th></th>\n",
       "      <th></th>\n",
       "      <th>NMI Mean</th>\n",
       "      <th>ARI Mean</th>\n",
       "      <th>Time taken (ms)</th>\n",
       "    </tr>\n",
       "    <tr>\n",
       "      <th>Dimensionality Reduction algorithm</th>\n",
       "      <th>Clustering algorithm</th>\n",
       "      <th>Dimensionality Reduction parameter</th>\n",
       "      <th>Clustering parameter</th>\n",
       "      <th></th>\n",
       "      <th></th>\n",
       "      <th></th>\n",
       "    </tr>\n",
       "  </thead>\n",
       "  <tbody>\n",
       "    <tr>\n",
       "      <th rowspan=\"5\" valign=\"top\">N/A</th>\n",
       "      <th rowspan=\"5\" valign=\"top\">dbscan</th>\n",
       "      <th rowspan=\"5\" valign=\"top\">0</th>\n",
       "      <th>20152.827688</th>\n",
       "      <td>0.568269</td>\n",
       "      <td>0.061607</td>\n",
       "      <td>64.4</td>\n",
       "    </tr>\n",
       "    <tr>\n",
       "      <th>20314.806646</th>\n",
       "      <td>0.571839</td>\n",
       "      <td>0.062062</td>\n",
       "      <td>42.2</td>\n",
       "    </tr>\n",
       "    <tr>\n",
       "      <th>20613.455881</th>\n",
       "      <td>0.577034</td>\n",
       "      <td>0.063373</td>\n",
       "      <td>51.6</td>\n",
       "    </tr>\n",
       "    <tr>\n",
       "      <th>20637.670510</th>\n",
       "      <td>0.577639</td>\n",
       "      <td>0.063517</td>\n",
       "      <td>42.4</td>\n",
       "    </tr>\n",
       "    <tr>\n",
       "      <th>20692.991417</th>\n",
       "      <td>0.578544</td>\n",
       "      <td>0.063347</td>\n",
       "      <td>44.0</td>\n",
       "    </tr>\n",
       "  </tbody>\n",
       "</table>\n",
       "</div>"
      ],
      "text/plain": [
       "                                                                                                                 NMI Mean  \\\n",
       "Dimensionality Reduction algorithm Clustering algorithm Dimensionality Reduction parameter Clustering parameter             \n",
       "N/A                                dbscan               0                                  20152.827688          0.568269   \n",
       "                                                                                           20314.806646          0.571839   \n",
       "                                                                                           20613.455881          0.577034   \n",
       "                                                                                           20637.670510          0.577639   \n",
       "                                                                                           20692.991417          0.578544   \n",
       "\n",
       "                                                                                                                 ARI Mean  \\\n",
       "Dimensionality Reduction algorithm Clustering algorithm Dimensionality Reduction parameter Clustering parameter             \n",
       "N/A                                dbscan               0                                  20152.827688          0.061607   \n",
       "                                                                                           20314.806646          0.062062   \n",
       "                                                                                           20613.455881          0.063373   \n",
       "                                                                                           20637.670510          0.063517   \n",
       "                                                                                           20692.991417          0.063347   \n",
       "\n",
       "                                                                                                                 Time taken (ms)  \n",
       "Dimensionality Reduction algorithm Clustering algorithm Dimensionality Reduction parameter Clustering parameter                   \n",
       "N/A                                dbscan               0                                  20152.827688                     64.4  \n",
       "                                                                                           20314.806646                     42.2  \n",
       "                                                                                           20613.455881                     51.6  \n",
       "                                                                                           20637.670510                     42.4  \n",
       "                                                                                           20692.991417                     44.0  "
      ]
     },
     "execution_count": 33,
     "metadata": {},
     "output_type": "execute_result"
    }
   ],
   "source": [
    "# Averages of Normalized Mutual Information and Adjusted Rand Index scores\n",
    "# Reformat the table to look more presentable\n",
    "\n",
    "averaged_results_df = results_df.groupby([\"Dimensionality Reduction algorithm\", \"Clustering algorithm\", \n",
    "                                          \"Dimensionality Reduction parameter\", \"Clustering parameter\"]).mean()\n",
    "averaged_results_df.drop(columns = [\"Trial number\"], inplace = True)\n",
    "averaged_results_df.rename(columns = {\"NMI Score\": \"NMI Mean\", \"ARI Score\": \"ARI Mean\"}, inplace = True)\n",
    "averaged_results_df.head()"
   ]
  },
  {
   "cell_type": "code",
   "execution_count": 34,
   "id": "2a466e6c",
   "metadata": {},
   "outputs": [
    {
     "data": {
      "text/html": [
       "<div>\n",
       "<style scoped>\n",
       "    .dataframe tbody tr th:only-of-type {\n",
       "        vertical-align: middle;\n",
       "    }\n",
       "\n",
       "    .dataframe tbody tr th {\n",
       "        vertical-align: top;\n",
       "    }\n",
       "\n",
       "    .dataframe thead th {\n",
       "        text-align: right;\n",
       "    }\n",
       "</style>\n",
       "<table border=\"1\" class=\"dataframe\">\n",
       "  <thead>\n",
       "    <tr style=\"text-align: right;\">\n",
       "      <th></th>\n",
       "      <th></th>\n",
       "      <th></th>\n",
       "      <th></th>\n",
       "      <th>NMI Mean</th>\n",
       "      <th>ARI Mean</th>\n",
       "      <th>Time taken (ms)</th>\n",
       "      <th>NMI StD / Mean</th>\n",
       "    </tr>\n",
       "    <tr>\n",
       "      <th>Dimensionality Reduction algorithm</th>\n",
       "      <th>Clustering algorithm</th>\n",
       "      <th>Dimensionality Reduction parameter</th>\n",
       "      <th>Clustering parameter</th>\n",
       "      <th></th>\n",
       "      <th></th>\n",
       "      <th></th>\n",
       "      <th></th>\n",
       "    </tr>\n",
       "  </thead>\n",
       "  <tbody>\n",
       "    <tr>\n",
       "      <th rowspan=\"5\" valign=\"top\">N/A</th>\n",
       "      <th rowspan=\"5\" valign=\"top\">dbscan</th>\n",
       "      <th rowspan=\"5\" valign=\"top\">0</th>\n",
       "      <th>20152.827688</th>\n",
       "      <td>0.568269</td>\n",
       "      <td>0.061607</td>\n",
       "      <td>64.4</td>\n",
       "      <td>5.027399e-05</td>\n",
       "    </tr>\n",
       "    <tr>\n",
       "      <th>20314.806646</th>\n",
       "      <td>0.571839</td>\n",
       "      <td>0.062062</td>\n",
       "      <td>42.2</td>\n",
       "      <td>2.372289e-05</td>\n",
       "    </tr>\n",
       "    <tr>\n",
       "      <th>20613.455881</th>\n",
       "      <td>0.577034</td>\n",
       "      <td>0.063373</td>\n",
       "      <td>51.6</td>\n",
       "      <td>9.620076e-17</td>\n",
       "    </tr>\n",
       "    <tr>\n",
       "      <th>20637.670510</th>\n",
       "      <td>0.577639</td>\n",
       "      <td>0.063517</td>\n",
       "      <td>42.4</td>\n",
       "      <td>2.231182e-05</td>\n",
       "    </tr>\n",
       "    <tr>\n",
       "      <th>20692.991417</th>\n",
       "      <td>0.578544</td>\n",
       "      <td>0.063347</td>\n",
       "      <td>44.0</td>\n",
       "      <td>1.441737e-04</td>\n",
       "    </tr>\n",
       "  </tbody>\n",
       "</table>\n",
       "</div>"
      ],
      "text/plain": [
       "                                                                                                                 NMI Mean  \\\n",
       "Dimensionality Reduction algorithm Clustering algorithm Dimensionality Reduction parameter Clustering parameter             \n",
       "N/A                                dbscan               0                                  20152.827688          0.568269   \n",
       "                                                                                           20314.806646          0.571839   \n",
       "                                                                                           20613.455881          0.577034   \n",
       "                                                                                           20637.670510          0.577639   \n",
       "                                                                                           20692.991417          0.578544   \n",
       "\n",
       "                                                                                                                 ARI Mean  \\\n",
       "Dimensionality Reduction algorithm Clustering algorithm Dimensionality Reduction parameter Clustering parameter             \n",
       "N/A                                dbscan               0                                  20152.827688          0.061607   \n",
       "                                                                                           20314.806646          0.062062   \n",
       "                                                                                           20613.455881          0.063373   \n",
       "                                                                                           20637.670510          0.063517   \n",
       "                                                                                           20692.991417          0.063347   \n",
       "\n",
       "                                                                                                                 Time taken (ms)  \\\n",
       "Dimensionality Reduction algorithm Clustering algorithm Dimensionality Reduction parameter Clustering parameter                    \n",
       "N/A                                dbscan               0                                  20152.827688                     64.4   \n",
       "                                                                                           20314.806646                     42.2   \n",
       "                                                                                           20613.455881                     51.6   \n",
       "                                                                                           20637.670510                     42.4   \n",
       "                                                                                           20692.991417                     44.0   \n",
       "\n",
       "                                                                                                                 NMI StD / Mean  \n",
       "Dimensionality Reduction algorithm Clustering algorithm Dimensionality Reduction parameter Clustering parameter                  \n",
       "N/A                                dbscan               0                                  20152.827688            5.027399e-05  \n",
       "                                                                                           20314.806646            2.372289e-05  \n",
       "                                                                                           20613.455881            9.620076e-17  \n",
       "                                                                                           20637.670510            2.231182e-05  \n",
       "                                                                                           20692.991417            1.441737e-04  "
      ]
     },
     "execution_count": 34,
     "metadata": {},
     "output_type": "execute_result"
    }
   ],
   "source": [
    "# Scale the Standard Deviation with the Average, so that it is easier to interpret\n",
    "\n",
    "averaged_results_df[\"NMI StD / Mean\"] = results_std[\"NMI StD\"] / averaged_results_df[\"NMI Mean\"]\n",
    "averaged_results_df.head()"
   ]
  },
  {
   "cell_type": "code",
   "execution_count": 35,
   "id": "f0e69c53",
   "metadata": {},
   "outputs": [
    {
     "data": {
      "text/plain": [
       "0.006284499729264775"
      ]
     },
     "execution_count": 35,
     "metadata": {},
     "output_type": "execute_result"
    }
   ],
   "source": [
    "# Highest scaled standard deviation (highest % error)\n",
    "averaged_results_df[\"NMI StD / Mean\"].max()"
   ]
  },
  {
   "cell_type": "markdown",
   "id": "5ba3eba6",
   "metadata": {},
   "source": [
    "**Remarks:** From dividing the standard deviation by the mean of the 5 trials of each method, it can be observed that the method is precise, yielding a very low standard deviation. The highest standard deviation to mean ratio was around 1%, meaning that the predictions had around 1% error, making it incredibly precise."
   ]
  },
  {
   "cell_type": "code",
   "execution_count": 36,
   "id": "0c134c4f",
   "metadata": {
    "scrolled": true
   },
   "outputs": [
    {
     "data": {
      "text/plain": [
       "NMI Mean              0.829334\n",
       "ARI Mean              0.562021\n",
       "Time taken (ms)    7970.800000\n",
       "NMI StD / Mean        0.002818\n",
       "Name: (N/A, gm, 0, 96.0), dtype: float64"
      ]
     },
     "execution_count": 36,
     "metadata": {},
     "output_type": "execute_result"
    }
   ],
   "source": [
    "# Fetching the top 3 in terms of accuracy (NMI Mean)\n",
    "averaged_results_df.loc[averaged_results_df[\"NMI Mean\"].idxmax()]"
   ]
  },
  {
   "cell_type": "markdown",
   "id": "eab3ac87",
   "metadata": {},
   "source": [
    "**Remarks:** The algorithm composed of a UMAP with 3 components and Gaussian Mixture with 64 components is observed to be the most accurate algorithm, with a Normalized Mutual Information score of 0.865. It is fairly precise, as well with only a 0.5% standard deviation to mean ratio. This indicates a very strong similarity between the labels the method predicted and the actual labels. The algorithm took 4.8 seconds to compute. However, it would be good to observe the other algorithms, so the top 5 have been fetched below:"
   ]
  },
  {
   "cell_type": "markdown",
   "id": "b2f484ba",
   "metadata": {},
   "source": [
    "### Top 5 method performances ###"
   ]
  },
  {
   "cell_type": "code",
   "execution_count": 37,
   "id": "360f66ae",
   "metadata": {},
   "outputs": [
    {
     "data": {
      "text/html": [
       "<div>\n",
       "<style scoped>\n",
       "    .dataframe tbody tr th:only-of-type {\n",
       "        vertical-align: middle;\n",
       "    }\n",
       "\n",
       "    .dataframe tbody tr th {\n",
       "        vertical-align: top;\n",
       "    }\n",
       "\n",
       "    .dataframe thead th {\n",
       "        text-align: right;\n",
       "    }\n",
       "</style>\n",
       "<table border=\"1\" class=\"dataframe\">\n",
       "  <thead>\n",
       "    <tr style=\"text-align: right;\">\n",
       "      <th></th>\n",
       "      <th></th>\n",
       "      <th></th>\n",
       "      <th></th>\n",
       "      <th>NMI Mean</th>\n",
       "      <th>ARI Mean</th>\n",
       "      <th>Time taken (ms)</th>\n",
       "      <th>NMI StD / Mean</th>\n",
       "    </tr>\n",
       "    <tr>\n",
       "      <th>Dimensionality Reduction algorithm</th>\n",
       "      <th>Clustering algorithm</th>\n",
       "      <th>Dimensionality Reduction parameter</th>\n",
       "      <th>Clustering parameter</th>\n",
       "      <th></th>\n",
       "      <th></th>\n",
       "      <th></th>\n",
       "      <th></th>\n",
       "    </tr>\n",
       "  </thead>\n",
       "  <tbody>\n",
       "    <tr>\n",
       "      <th rowspan=\"5\" valign=\"top\">N/A</th>\n",
       "      <th rowspan=\"5\" valign=\"top\">gm</th>\n",
       "      <th rowspan=\"5\" valign=\"top\">0</th>\n",
       "      <th>96.0</th>\n",
       "      <td>0.829334</td>\n",
       "      <td>0.562021</td>\n",
       "      <td>7970.8</td>\n",
       "      <td>0.002818</td>\n",
       "    </tr>\n",
       "    <tr>\n",
       "      <th>89.0</th>\n",
       "      <td>0.828964</td>\n",
       "      <td>0.565956</td>\n",
       "      <td>7102.4</td>\n",
       "      <td>0.006284</td>\n",
       "    </tr>\n",
       "    <tr>\n",
       "      <th>99.0</th>\n",
       "      <td>0.828437</td>\n",
       "      <td>0.559702</td>\n",
       "      <td>6808.8</td>\n",
       "      <td>0.001478</td>\n",
       "    </tr>\n",
       "    <tr>\n",
       "      <th>77.0</th>\n",
       "      <td>0.827517</td>\n",
       "      <td>0.565064</td>\n",
       "      <td>6361.0</td>\n",
       "      <td>0.004765</td>\n",
       "    </tr>\n",
       "    <tr>\n",
       "      <th>74.0</th>\n",
       "      <td>0.826020</td>\n",
       "      <td>0.562528</td>\n",
       "      <td>4937.2</td>\n",
       "      <td>0.003490</td>\n",
       "    </tr>\n",
       "  </tbody>\n",
       "</table>\n",
       "</div>"
      ],
      "text/plain": [
       "                                                                                                                 NMI Mean  \\\n",
       "Dimensionality Reduction algorithm Clustering algorithm Dimensionality Reduction parameter Clustering parameter             \n",
       "N/A                                gm                   0                                  96.0                  0.829334   \n",
       "                                                                                           89.0                  0.828964   \n",
       "                                                                                           99.0                  0.828437   \n",
       "                                                                                           77.0                  0.827517   \n",
       "                                                                                           74.0                  0.826020   \n",
       "\n",
       "                                                                                                                 ARI Mean  \\\n",
       "Dimensionality Reduction algorithm Clustering algorithm Dimensionality Reduction parameter Clustering parameter             \n",
       "N/A                                gm                   0                                  96.0                  0.562021   \n",
       "                                                                                           89.0                  0.565956   \n",
       "                                                                                           99.0                  0.559702   \n",
       "                                                                                           77.0                  0.565064   \n",
       "                                                                                           74.0                  0.562528   \n",
       "\n",
       "                                                                                                                 Time taken (ms)  \\\n",
       "Dimensionality Reduction algorithm Clustering algorithm Dimensionality Reduction parameter Clustering parameter                    \n",
       "N/A                                gm                   0                                  96.0                           7970.8   \n",
       "                                                                                           89.0                           7102.4   \n",
       "                                                                                           99.0                           6808.8   \n",
       "                                                                                           77.0                           6361.0   \n",
       "                                                                                           74.0                           4937.2   \n",
       "\n",
       "                                                                                                                 NMI StD / Mean  \n",
       "Dimensionality Reduction algorithm Clustering algorithm Dimensionality Reduction parameter Clustering parameter                  \n",
       "N/A                                gm                   0                                  96.0                        0.002818  \n",
       "                                                                                           89.0                        0.006284  \n",
       "                                                                                           99.0                        0.001478  \n",
       "                                                                                           77.0                        0.004765  \n",
       "                                                                                           74.0                        0.003490  "
      ]
     },
     "execution_count": 37,
     "metadata": {},
     "output_type": "execute_result"
    }
   ],
   "source": [
    "sorted_results_df = averaged_results_df.sort_values(by = [\"NMI Mean\", \"Time taken (ms)\"], ascending = False)\n",
    "\n",
    "# Grabs the top 5 algorithm pairs\n",
    "sorted_results_df.iloc[0:5]"
   ]
  },
  {
   "cell_type": "code",
   "execution_count": 38,
   "id": "24351b93",
   "metadata": {},
   "outputs": [],
   "source": [
    "sorted_results_df.to_excel(\"clustering-only.xlsx\")"
   ]
  },
  {
   "cell_type": "markdown",
   "id": "4efeadd0",
   "metadata": {},
   "source": [
    "**Remarks:** The top 5 methods all perform very similarly, ranging from a mean NMI of 0.863-0.865, making them comparatively accurate. Considering speed, it would perhaps be more efficient to consider UMAP and Gaussian Mixture as a combination than TSNE and Gaussian Mixture, as UMAP and GM is almost 3 times faster than TSNE and GM. They all have a negligible standard deviation to mean ratio of roughly 0.2%-0.5%, making them all comparatively precise."
   ]
  },
  {
   "cell_type": "markdown",
   "id": "547ebac1",
   "metadata": {},
   "source": [
    "## Conclusion & Future Work ##\n",
    "The motivation behind exploring unsupervised methods was that not as much data is needed to train the methods, and the versatility of these methods can be applied to multiple problems fast. In terms of accuracy, the final model (UMAP 3 components, Gaussian Mixture 64 components) had a Normalized Mutual Information (NMI) score of 0.864. As a comparison, Rosie Day's Masters thesis found that ARTwarp had an NMI score of 0.88 on the same Sarasota dataset. With the 5 trials, the algorithm was fairly precise with the largest NMI standard deviation to mean ratio being ~1%. The main intent with the project was not necessarily to outperform ARTWarp in accuracy, but certainly in speed, with ARTWarp taking 10 days for the Sarasota dataset vs. the unsupervised method's **4.8 seconds**).\n",
    "\n",
    "In the future, the programmer would like to further analyze the variation between the Adjusted Rand Index and the Normalized Mutual Information scores, as they were on a time constraint. The programmer would also love to explore how each of the top methods perform on another dataset, either a signature whistle or species classification problem, as the strength of an unsupervised method is that it can be applied to multiple problems. However, the programmer understands that they had a one semester time constraint and performed to the best of their abilities."
   ]
  },
  {
   "cell_type": "markdown",
   "id": "ac005208",
   "metadata": {},
   "source": [
    "## Past Work ##\n",
    "\n",
    "THE NOTES BELOW ARE VERY ROUGHLY WRITTEN.\n",
    "\n",
    "Deprecated (replaced by Sarasota whistle dataset). For the first 3 weeks or so of the semester, this was most of the work that was done. The programmer decided to document this, as they or someone else on the team could pursue using the Hawaii contours dataset – for classifying dolphin species by whistles in the future – and may need this. The past work is largely Exploratory Data Analysis of the Hawaii dataset and experiments with Kernel Density Estimation, a method that could be used for clustering, but due to time constraints, the programmer couldn't fully integrate them. The programmer has done their best job to document the code, but if a future team member has any questions, they shouldn't hesitate to contact Ayam Babu at ab550@st-andrews.ac.uk."
   ]
  },
  {
   "cell_type": "code",
   "execution_count": 34,
   "id": "cbc43bf5",
   "metadata": {},
   "outputs": [],
   "source": [
    "import pandas as pd\n",
    "contour = pd.read_csv(\"SbHawaiiContours/220447/sel_01_1705_1705_20170929_220447_ROCCA.csv\")"
   ]
  },
  {
   "cell_type": "code",
   "execution_count": 35,
   "id": "f1ae27f1",
   "metadata": {},
   "outputs": [
    {
     "data": {
      "text/plain": [
       "['/Users/ayambabu/Documents/VIP: Dolphin Acoustics/whistle-classification/SbHawaiiContours/220447/sel_02_1705_1705_20170929_220447_ROCCA.csv',\n",
       " '/Users/ayambabu/Documents/VIP: Dolphin Acoustics/whistle-classification/SbHawaiiContours/220447/sel_01_1705_1705_20170929_220447_ROCCA.csv',\n",
       " '/Users/ayambabu/Documents/VIP: Dolphin Acoustics/whistle-classification/SbHawaiiContours/220447/sel_03_1705_1705_20170929_220447_ROCCA.csv',\n",
       " '/Users/ayambabu/Documents/VIP: Dolphin Acoustics/whistle-classification/SbHawaiiContours/s234/sel_05_20021020_114236_ROCCA.csv',\n",
       " '/Users/ayambabu/Documents/VIP: Dolphin Acoustics/whistle-classification/SbHawaiiContours/s234/sel_02_20021020_114104_ROCCA.csv']"
      ]
     },
     "execution_count": 35,
     "metadata": {},
     "output_type": "execute_result"
    }
   ],
   "source": [
    "import os\n",
    "from glob import glob\n",
    "\n",
    "PATH = \"/Users/ayambabu/Documents/VIP: Dolphin Acoustics/whistle-classification/SbHawaiiContours\"\n",
    "EXT = \"*.csv\"\n",
    "\n",
    "all_csv_files = [file\n",
    "                 for path, subdir, files in os.walk(PATH)\n",
    "                 for file in glob(os.path.join(path, EXT))]\n",
    "all_csv_files[0:5]"
   ]
  },
  {
   "cell_type": "code",
   "execution_count": 36,
   "id": "6459ad20",
   "metadata": {},
   "outputs": [
    {
     "data": {
      "text/plain": [
       "1054"
      ]
     },
     "execution_count": 36,
     "metadata": {},
     "output_type": "execute_result"
    }
   ],
   "source": [
    "# Number of whistles\n",
    "len(all_csv_files)"
   ]
  },
  {
   "cell_type": "code",
   "execution_count": 37,
   "id": "87b10441",
   "metadata": {},
   "outputs": [
    {
     "data": {
      "text/plain": [
       "383.0066413662239"
      ]
     },
     "execution_count": 37,
     "metadata": {},
     "output_type": "execute_result"
    }
   ],
   "source": [
    "# Average whistle size\n",
    "np.mean([len(pd.read_csv(all_csv_files[i])) for i in range(len(all_csv_files))])"
   ]
  },
  {
   "cell_type": "code",
   "execution_count": 38,
   "id": "d7d9df00",
   "metadata": {},
   "outputs": [
    {
     "name": "stdout",
     "output_type": "stream",
     "text": [
      "Length of dataset: 1054\n",
      "Length of scaled whistle: 400\n"
     ]
    }
   ],
   "source": [
    "import numpy as np\n",
    "X = []\n",
    "\n",
    "for i in range(len(all_csv_files)):\n",
    "    df = pd.read_csv(all_csv_files[i])\n",
    "\n",
    "    size = len(df)\n",
    "    newsize = 400\n",
    "\n",
    "    # Scale the whistles to a fixed length\n",
    "    xloc = np.arange(size)\n",
    "    new_xloc = np.linspace(0, size, newsize)\n",
    "\n",
    "    data = df[\" Peak Frequency [Hz]\"]\n",
    "    new_data = np.interp(new_xloc, xloc, data)\n",
    "    \n",
    "    # Collate the whistles\n",
    "    X.append(new_data)\n",
    "    \n",
    "print(\"Length of dataset: \" + str(len(X)))\n",
    "print(\"Length of scaled whistle: \" + str(len(X[0])))"
   ]
  },
  {
   "cell_type": "code",
   "execution_count": 39,
   "id": "b83f436b",
   "metadata": {},
   "outputs": [],
   "source": [
    "pd.DataFrame(X).to_excel(\"processed-whistles.xlsx\")"
   ]
  },
  {
   "cell_type": "code",
   "execution_count": 40,
   "id": "c7de3c7b",
   "metadata": {},
   "outputs": [
    {
     "data": {
      "image/png": "[encoded data removed]",
      "text/plain": [
       "<Figure size 640x480 with 1 Axes>"
      ]
     },
     "metadata": {},
     "output_type": "display_data"
    }
   ],
   "source": [
    "import matplotlib.pyplot as plt\n",
    "\n",
    "# Plot a whistle to have a look\n",
    "x = X[6]\n",
    "t = np.linspace(0, len(x), len(x))\n",
    "fig, ax = plt.subplots()\n",
    "ax.plot(t, x, linewidth = 2.0)\n",
    "plt.show()"
   ]
  },
  {
   "cell_type": "markdown",
   "id": "03802a0e",
   "metadata": {},
   "source": [
    "### PCA + KDE ###"
   ]
  },
  {
   "cell_type": "code",
   "execution_count": 41,
   "id": "7ca0a4e3",
   "metadata": {
    "scrolled": true
   },
   "outputs": [
    {
     "data": {
      "image/png": "[encoded data removed]",
      "text/plain": [
       "<Figure size 640x480 with 1 Axes>"
      ]
     },
     "metadata": {},
     "output_type": "display_data"
    }
   ],
   "source": [
    "from sklearn.decomposition import PCA\n",
    "import numpy as np\n",
    "import matplotlib.pyplot as plt\n",
    "\n",
    "n_components = 10\n",
    "pca = PCA(n_components = n_components)\n",
    "pca.fit(X)\n",
    "\n",
    "# First PCA Component explains most variance\n",
    "# Cumsum / Cumulative Sum: Sum across the first n components\n",
    "cumulative_explained_variance = np.cumsum(pca.explained_variance_ratio_)\n",
    "plt.plot(range(1, n_components + 1), cumulative_explained_variance, '--bo')\n",
    "plt.xticks(np.arange(1, n_components + 1, 1.0))\n",
    "plt.show()"
   ]
  },
  {
   "cell_type": "code",
   "execution_count": 42,
   "id": "295c9889",
   "metadata": {},
   "outputs": [],
   "source": [
    "# Find concentrations of value and cluster them\n",
    "def kde_clusters(X_transformed):\n",
    "    clusters = []\n",
    "    density = gaussian_kde(np.asarray(X_transformed).ravel())\n",
    "    xgrid = np.linspace(min(np.asarray(X_transformed).ravel()), \n",
    "                        max(np.asarray(X_transformed).ravel()), \n",
    "                        len(X_transformed)) \n",
    "\n",
    "    mi, ma = argrelextrema(density(xgrid), np.less)[0], argrelextrema(density(xgrid), np.greater)[0]\n",
    "    print(\"Minima:\", xgrid[mi])\n",
    "    print(\"Maxima:\", xgrid[ma])\n",
    "\n",
    "    plt.plot(xgrid, density(xgrid))\n",
    "    plt.show()\n",
    "    \n",
    "    a = xgrid\n",
    "    clusters.append(a[a <= xgrid[mi][0]])\n",
    "    for i in range(len(mi) - 1):\n",
    "        clusters.append(a[(a >= xgrid[mi][i]) * (a <= xgrid[mi][i + 1])])\n",
    "\n",
    "    clusters.append(a[a >= xgrid[mi][-1]])\n",
    "    return clusters"
   ]
  },
  {
   "cell_type": "code",
   "execution_count": 43,
   "id": "ab4f94d1",
   "metadata": {},
   "outputs": [
    {
     "name": "stdout",
     "output_type": "stream",
     "text": [
      "Minima: [-98311.12872411 -81784.15017705 -71867.96304881 -48730.19308292\n",
      " -30550.51668115  40515.49107122  68611.35460123  76874.84387476\n",
      "  90096.42671241  96707.21813124 104970.70740477 113234.1966783\n",
      " 123150.38380654 133066.57093478 156204.34090067 162815.13231949\n",
      " 174384.01730244 210743.37010598 273545.88858482]\n",
      "Maxima: [-1.08227316e+05 -8.67422437e+04 -7.51733588e+04 -5.20355888e+04\n",
      " -3.55086102e+04 -8.01955296e+02  4.38208868e+04  7.35694482e+04\n",
      "  8.18329374e+04  9.17491246e+04  1.00012614e+05  1.06623405e+05\n",
      "  1.18192290e+05  1.26455780e+05  1.46288154e+05  1.61162434e+05\n",
      "  1.64467830e+05  1.84300204e+05  2.37186536e+05  3.08252544e+05\n",
      "  1.06684086e+06]\n"
     ]
    },
    {
     "data": {
      "image/png": "[encoded data removed]",
      "text/plain": [
       "<Figure size 640x480 with 1 Axes>"
      ]
     },
     "metadata": {},
     "output_type": "display_data"
    },
    {
     "name": "stdout",
     "output_type": "stream",
     "text": [
      "20\n"
     ]
    }
   ],
   "source": [
    "# Demonstrate PCA + KDE\n",
    "\n",
    "from sklearn.mixture import GaussianMixture\n",
    "from scipy.stats import gaussian_kde\n",
    "from scipy.signal import argrelextrema\n",
    "\n",
    "n_components = 20\n",
    "pca = PCA(n_components = n_components)\n",
    "pca_components = pca.fit_transform(X)\n",
    "\n",
    "\"\"\"\n",
    "g = GaussianMixture()\n",
    "g.fit_predict(pca_components)\n",
    "\"\"\"\n",
    "\n",
    "clusters = kde_clusters(pca_components)\n",
    "print(len(clusters))"
   ]
  },
  {
   "cell_type": "markdown",
   "id": "fe4a44fd",
   "metadata": {},
   "source": [
    "### UMAP + KDE ###"
   ]
  },
  {
   "cell_type": "code",
   "execution_count": 44,
   "id": "114eadad",
   "metadata": {},
   "outputs": [
    {
     "name": "stdout",
     "output_type": "stream",
     "text": [
      "Minima: [ 0.85189291 19.74131625]\n",
      "Maxima: [-7.60550175 11.09763535 22.38658066]\n"
     ]
    },
    {
     "data": {
      "image/png": "[encoded data removed]",
      "text/plain": [
       "<Figure size 640x480 with 1 Axes>"
      ]
     },
     "metadata": {},
     "output_type": "display_data"
    },
    {
     "name": "stdout",
     "output_type": "stream",
     "text": [
      "3\n"
     ]
    }
   ],
   "source": [
    "import umap\n",
    "\n",
    "X_transformed = umap.UMAP(n_components = 1).fit_transform(X)\n",
    "umap_kde_clusters = kde_clusters(X_transformed)\n",
    "print(len(umap_kde_clusters))"
   ]
  },
  {
   "cell_type": "code",
   "execution_count": 45,
   "id": "3fd3ffce",
   "metadata": {},
   "outputs": [
    {
     "name": "stdout",
     "output_type": "stream",
     "text": [
      "Minima: [5.03768162]\n",
      "Maxima: [0.38363908 6.5359008 ]\n"
     ]
    },
    {
     "data": {
      "image/png": "[encoded data removed]",
      "text/plain": [
       "<Figure size 640x480 with 1 Axes>"
      ]
     },
     "metadata": {},
     "output_type": "display_data"
    },
    {
     "name": "stdout",
     "output_type": "stream",
     "text": [
      "2\n"
     ]
    }
   ],
   "source": [
    "X_transformed = umap.UMAP(n_components = 2).fit_transform(X)\n",
    "umap_kde_clusters = kde_clusters(X_transformed)\n",
    "print(len(umap_kde_clusters))"
   ]
  },
  {
   "cell_type": "markdown",
   "id": "7cfd0173",
   "metadata": {},
   "source": [
    "**Remarks:** The clusters concentrations look different, which means that there is a different sized cluster for both, indicating that the variation of the UMAP embedding parameter affects the clustering. However, because this dataset doesn't have labels, it is difficult to evaluate which method is better. This applies for all the methods tried, including ISOMAP and PCA."
   ]
  },
  {
   "cell_type": "markdown",
   "id": "70bd29af",
   "metadata": {},
   "source": [
    "### ISOMAP + KDE ###"
   ]
  },
  {
   "cell_type": "code",
   "execution_count": 46,
   "id": "5ef65380",
   "metadata": {},
   "outputs": [
    {
     "name": "stdout",
     "output_type": "stream",
     "text": [
      "Minima: [ 328514.70078619  735435.52596756 1386850.79653102]\n",
      "Maxima: [  -8306.31837655  362709.72811235 1106451.57245646]\n"
     ]
    },
    {
     "data": {
      "image/png": "[encoded data removed]",
      "text/plain": [
       "<Figure size 640x480 with 1 Axes>"
      ]
     },
     "metadata": {},
     "output_type": "display_data"
    },
    {
     "name": "stdout",
     "output_type": "stream",
     "text": [
      "4\n"
     ]
    }
   ],
   "source": [
    "from sklearn.manifold import Isomap\n",
    "X_transformed = Isomap(n_components = 1).fit_transform(X)\n",
    "isomap_kde_clusters = kde_clusters(X_transformed)\n",
    "print(len(isomap_kde_clusters))"
   ]
  },
  {
   "cell_type": "code",
   "execution_count": 47,
   "id": "fb1ce7f2",
   "metadata": {},
   "outputs": [
    {
     "name": "stdout",
     "output_type": "stream",
     "text": [
      "Minima: [ 134475.25220158  237116.41972863  269619.4561122   329493.47050298\n",
      "  734926.08223484 1386697.49603163]\n",
      "Maxima: [   2752.42054186  146450.05507973  245669.85035588  285015.63124125\n",
      "  361996.50688655 1107855.65758314]\n"
     ]
    },
    {
     "data": {
      "image/png": "[encoded data removed]",
      "text/plain": [
       "<Figure size 640x480 with 1 Axes>"
      ]
     },
     "metadata": {},
     "output_type": "display_data"
    },
    {
     "name": "stdout",
     "output_type": "stream",
     "text": [
      "7\n"
     ]
    }
   ],
   "source": [
    "from sklearn.manifold import Isomap\n",
    "X_transformed = Isomap(n_components = 2).fit_transform(X)\n",
    "isomap_kde_clusters = kde_clusters(X_transformed)\n",
    "print(len(isomap_kde_clusters))"
   ]
  },
  {
   "cell_type": "code",
   "execution_count": 48,
   "id": "693c22a5",
   "metadata": {},
   "outputs": [
    {
     "name": "stdout",
     "output_type": "stream",
     "text": [
      "Minima: [ 129343.19382522  184085.14983965  231984.36135228  267908.76998675\n",
      "  327782.78437753  734926.08223484 1386697.49603163]\n",
      "Maxima: [   4463.10666731  148160.74120518  189217.20821601  247380.53648134\n",
      "  286726.31736671  361996.50688655 1107855.65758314]\n"
     ]
    },
    {
     "data": {
      "image/png": "[encoded data removed]",
      "text/plain": [
       "<Figure size 640x480 with 1 Axes>"
      ]
     },
     "metadata": {},
     "output_type": "display_data"
    },
    {
     "name": "stdout",
     "output_type": "stream",
     "text": [
      "8\n"
     ]
    }
   ],
   "source": [
    "from sklearn.manifold import Isomap\n",
    "X_transformed = Isomap(n_components = 3).fit_transform(X)\n",
    "isomap_kde_clusters = kde_clusters(X_transformed)\n",
    "print(len(isomap_kde_clusters))"
   ]
  },
  {
   "cell_type": "code",
   "execution_count": null,
   "id": "75943d18",
   "metadata": {},
   "outputs": [],
   "source": []
  }
 ],
 "metadata": {
  "kernelspec": {
   "display_name": "Python 3 (ipykernel)",
   "language": "python",
   "name": "python3"
  },
  "language_info": {
   "codemirror_mode": {
    "name": "ipython",
    "version": 3
   },
   "file_extension": ".py",
   "mimetype": "text/x-python",
   "name": "python",
   "nbconvert_exporter": "python",
   "pygments_lexer": "ipython3",
   "version": "3.9.12"
  }
 },
 "nbformat": 4,
 "nbformat_minor": 5
}
